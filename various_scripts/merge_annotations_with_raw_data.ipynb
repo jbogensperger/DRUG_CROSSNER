{
 "cells": [
  {
   "cell_type": "code",
   "execution_count": 1,
   "metadata": {},
   "outputs": [],
   "source": [
    "import pickle\n",
    "import pandas as pd\n",
    "import csv\n",
    "import json\n",
    "import os\n",
    "from stanza.utils.conll import CoNLL\n",
    "from stanza.models.common.doc import Document\n"
   ]
  },
  {
   "cell_type": "markdown",
   "metadata": {},
   "source": [
    "# Merge data from review back to original stanza data."
   ]
  },
  {
   "cell_type": "code",
   "execution_count": 2,
   "metadata": {},
   "outputs": [],
   "source": [
    "#Load data used for dataset creation\n",
    "df_shuffled = pd.read_pickle('intermediate_store/preprocessed_ads_V1.0.pickle')\n",
    "\n",
    "#Load reviewed annotation data Appen\n",
    "with open('reviewed_data/initial_1300.json') as json_file:\n",
    "    rewiewed_json = json.load(json_file)\n",
    "    "
   ]
  },
  {
   "cell_type": "code",
   "execution_count": 3,
   "metadata": {},
   "outputs": [
    {
     "name": "stdout",
     "output_type": "stream",
     "text": [
      "Example 0 how many tokens are in this sentence initially after stanza  30\n",
      "Example 0 how many tokens are in this sentence after review 30\n"
     ]
    }
   ],
   "source": [
    "#Quick check if the token length is still the same\n",
    "print('Example 0 how many tokens are in this sentence initially after stanza ', sum(len(row) for row in df_shuffled.loc[9119].doc.to_dict()))\n",
    "print('Example 0 how many tokens are in this sentence after review', len(rewiewed_json[0]['data']['clean_description'].split(' ')))\n"
   ]
  },
  {
   "cell_type": "code",
   "execution_count": 4,
   "metadata": {},
   "outputs": [
    {
     "data": {
      "text/plain": [
       "['ALPRAZOLAM',\n",
       " 'POWDER',\n",
       " 'RATES.',\n",
       " 'HIT',\n",
       " 'WICKR',\n",
       " 'ID',\n",
       " 'drcoke',\n",
       " '10',\n",
       " 'g',\n",
       " '497',\n",
       " '25g',\n",
       " '997',\n",
       " '50',\n",
       " 'g',\n",
       " '1697',\n",
       " '100',\n",
       " 'g',\n",
       " '2797',\n",
       " '250',\n",
       " 'g',\n",
       " '5997',\n",
       " 'ALPRAZOLAM',\n",
       " 'TABLETS',\n",
       " '100tabs300',\n",
       " '200tabs',\n",
       " '580',\n",
       " '400tabs',\n",
       " '850',\n",
       " '1000tabs',\n",
       " '1860.']"
      ]
     },
     "execution_count": 4,
     "metadata": {},
     "output_type": "execute_result"
    }
   ],
   "source": [
    "#Detailed comparison\n",
    "\n",
    "\n",
    "df_shuffled.loc[9119].doc.to_dict()\n",
    "rewiewed_json[0]['data']['clean_description'].split(' ')"
   ]
  },
  {
   "cell_type": "code",
   "execution_count": 12,
   "metadata": {},
   "outputs": [
    {
     "data": {
      "text/plain": [
       "{'clean_description': 'ALPRAZOLAM POWDER RATES. HIT WICKR ID drcoke 10 g 497 25g 997 50 g 1697 100 g 2797 250 g 5997 ALPRAZOLAM TABLETS 100tabs300 200tabs 580 400tabs 850 1000tabs 1860.',\n",
       " 'dream_id': 416407,\n",
       " 'golden': True,\n",
       " 'name': 'ALPRAZOLAM POWDER,ALPRAZOLAM TABLETS',\n",
       " 'p_id': 9119}"
      ]
     },
     "execution_count": 12,
     "metadata": {},
     "output_type": "execute_result"
    }
   ],
   "source": [
    "rewiewed_json[0]['data']"
   ]
  },
  {
   "cell_type": "code",
   "execution_count": 5,
   "metadata": {},
   "outputs": [
    {
     "name": "stdout",
     "output_type": "stream",
     "text": [
      "Orig: ALPRAZOLAM Review: ALPRAZOLAM --> is the same: True \n",
      "Orig: POWDER Review: POWDER --> is the same: True \n",
      "Orig: RATES Review: RATES. --> is the same: False \n",
      "Orig: HIT Review: HIT --> is the same: True \n",
      "Orig: WICKR Review: WICKR --> is the same: True \n",
      "Orig: ID Review: ID --> is the same: True \n",
      "Orig: drcoke Review: drcoke --> is the same: True \n",
      "Orig: 10 Review: 10 --> is the same: True \n",
      "Orig: g Review: g --> is the same: True \n",
      "Orig: 497 Review: 497 --> is the same: True \n",
      "Orig: 25g Review: 25g --> is the same: True \n",
      "Orig: 997 Review: 997 --> is the same: True \n",
      "Orig: 50 Review: 50 --> is the same: True \n",
      "Orig: g Review: g --> is the same: True \n",
      "Orig: 1697 Review: 1697 --> is the same: True \n",
      "Orig: 100 Review: 100 --> is the same: True \n",
      "Orig: g Review: g --> is the same: True \n",
      "Orig: 2797 Review: 2797 --> is the same: True \n",
      "Orig: 250 Review: 250 --> is the same: True \n",
      "Orig: g Review: g --> is the same: True \n",
      "Orig: 5997 Review: 5997 --> is the same: True \n",
      "Orig: ALPRAZOLAM Review: ALPRAZOLAM --> is the same: True \n",
      "Orig: TABLETS Review: TABLETS --> is the same: True \n",
      "Orig: 100tabs300 Review: 100tabs300 --> is the same: True \n",
      "Orig: 200tabs Review: 200tabs --> is the same: True \n",
      "Orig: 580 Review: 580 --> is the same: True \n",
      "Orig: 400tabs Review: 400tabs --> is the same: True \n",
      "Orig: 850 Review: 850 --> is the same: True \n",
      "Orig: 1000tabs Review: 1000tabs --> is the same: True \n",
      "Orig: 1860 Review: 1860. --> is the same: False \n"
     ]
    }
   ],
   "source": [
    "# In detail comparison between the spans --> Do this for all of them\n",
    "flat_list_orig = [item for sublist in df_shuffled.loc[9119].doc.to_dict() for item in sublist]\n",
    "flat_list_rev = rewiewed_json[0]['data']['clean_description'].split(' ')\n",
    "\n",
    "for i, rev_span in enumerate(flat_list_rev):\n",
    "    print (\"Orig: {} Review: {} --> is the same: {} \".format(flat_list_orig[i]['text'], rev_span, flat_list_orig[i]['text']==rev_span))"
   ]
  },
  {
   "cell_type": "code",
   "execution_count": 6,
   "metadata": {},
   "outputs": [
    {
     "data": {
      "text/plain": [
       "{'completions': [{'created_at': 1613048258,\n",
       "   'id': 471001,\n",
       "   'lead_time': 10.0,\n",
       "   'result': [{'from_name': 'label',\n",
       "     'id': 'c965a1fe-129b-49e0-869b-0e7b2ac37e09',\n",
       "     'to_name': 'text',\n",
       "     'type': 'labels',\n",
       "     'value': {'end': 10,\n",
       "      'labels': ['Drug'],\n",
       "      'start': 0,\n",
       "      'text': 'ALPRAZOLAM'}},\n",
       "    {'from_name': 'label',\n",
       "     'id': '2f7a3b5c-8f5a-4d2a-979f-ea0fedd78346',\n",
       "     'to_name': 'text',\n",
       "     'type': 'labels',\n",
       "     'value': {'end': 104,\n",
       "      'labels': ['Drug'],\n",
       "      'start': 94,\n",
       "      'text': 'ALPRAZOLAM'}}]}],\n",
       " 'data': {'clean_description': 'ALPRAZOLAM POWDER RATES. HIT WICKR ID drcoke 10 g 497 25g 997 50 g 1697 100 g 2797 250 g 5997 ALPRAZOLAM TABLETS 100tabs300 200tabs 580 400tabs 850 1000tabs 1860.',\n",
       "  'dream_id': 416407,\n",
       "  'golden': True,\n",
       "  'name': 'ALPRAZOLAM POWDER,ALPRAZOLAM TABLETS',\n",
       "  'p_id': 9119},\n",
       " 'id': 471}"
      ]
     },
     "execution_count": 6,
     "metadata": {},
     "output_type": "execute_result"
    }
   ],
   "source": [
    "rewiewed_json[0]"
   ]
  },
  {
   "cell_type": "markdown",
   "metadata": {},
   "source": [
    "### Evaluate how many rows cause a problem and subsequently merge all rows without conflicts in a new df.\n",
    "\n"
   ]
  },
  {
   "cell_type": "code",
   "execution_count": 7,
   "metadata": {},
   "outputs": [
    {
     "data": {
      "text/plain": [
       "[[{'id': 1, 'text': '17g', 'misc': 'start_char=0|end_char=3|label=O'},\n",
       "  {'id': 2, 'text': 'Super', 'misc': 'start_char=4|end_char=9|label=O'},\n",
       "  {'id': 3, 'text': 'Hash', 'misc': 'start_char=10|end_char=14|label=B-Drug'},\n",
       "  {'id': 4, 'text': 'Pollen', 'misc': 'start_char=15|end_char=21|label=O'},\n",
       "  {'id': 5, 'text': '/', 'misc': 'start_char=22|end_char=23|label=O'},\n",
       "  {'id': 6, 'text': 'Rif', 'misc': 'start_char=24|end_char=27|label=O'},\n",
       "  {'id': 7, 'text': 'Al', 'misc': 'start_char=28|end_char=30|label=O'},\n",
       "  {'id': 8, 'text': 'Hoceima', 'misc': 'start_char=31|end_char=38|label=O'}]]"
      ]
     },
     "execution_count": 7,
     "metadata": {},
     "output_type": "execute_result"
    }
   ],
   "source": [
    "def split_with_indexes(string):\n",
    "    token_list = string.split(' ')\n",
    "    tuple_list = []\n",
    "    curr_start = 0\n",
    "    for token in token_list:\n",
    "        tuple_list.append( (token, curr_start, curr_start+len(token)-1) )#real end char, not start of next one\n",
    "        curr_start += len(token) + 1\n",
    "    return tuple_list\n",
    "def annotate_doc(review_json, doc):\n",
    "    \n",
    "    #create splitted review token list\n",
    "    #create a tag list with same length\n",
    "    reviewed_tuples = split_with_indexes(review_json['data']['clean_description'])\n",
    "    tag_list_rev = ['O' for i in range(len(reviewed_tuples))]\n",
    "    \n",
    "    #For each annotation check which tokens shall be labelled\n",
    "    for tag_dict in review_json['completions'][0]['result']:\n",
    "        first=True\n",
    "        \n",
    "        for j, (token, r_start, r_end) in enumerate(reviewed_tuples):\n",
    "            tag_start = tag_dict['value']['start']\n",
    "            tag_end = tag_dict['value']['end'] - 1 #real end char, not start of next one\n",
    "            #print('r_start {} r_end {} tag_start {} tag_end {} token: {}'.format(r_start, r_end, tag_start, tag_end, token))\n",
    "            if tag_end >= r_start and tag_start <= r_end and tag_dict['value']['labels'] == ['Drug']:\n",
    "                if first:\n",
    "                    tag_list_rev[j] = 'B-Drug'\n",
    "                    first=False\n",
    "                else:\n",
    "                    tag_list_rev[j] = 'I-Drug'\n",
    "    \n",
    "    #loop over doc and annotate the tokens in misc.\n",
    "    token_id=0\n",
    "    for sentence in doc:\n",
    "        for token_dict in sentence:\n",
    "            token_dict['misc'] = token_dict['misc'] + '|label=' + tag_list_rev[token_id]\n",
    "            token_id+=1\n",
    "    return doc\n",
    "    \n",
    "#split_with_indexes(rewiewed_json[300]['data']['clean_description'])   \n",
    "#annotate_doc(rewiewed_json[115], df_shuffled.loc[631].doc.to_dict())\n",
    "annotate_doc(rewiewed_json[79], df_shuffled.loc[115].doc.to_dict())"
   ]
  },
  {
   "cell_type": "code",
   "execution_count": 8,
   "metadata": {},
   "outputs": [
    {
     "name": "stdout",
     "output_type": "stream",
     "text": [
      "Length Problem at pandas_id: 742 and json item nr: 344\n",
      "Detail Problem at pandas_id: 742 and json item nr: 344\n",
      "Length Problem at pandas_id: 802 and json item nr: 1105\n",
      "1307 rows had still the same amount of tokens. 2 not. this is 0.001530221882172915 %\n",
      "1308 rows had exactly the same tokens. 1 not. this is 0.0007645259938837921 %\n"
     ]
    }
   ],
   "source": [
    "#Check each review item if the annotations stayed the same\n",
    "\n",
    "amt_same_len = 0\n",
    "amt_not_same_len = 0\n",
    "amt_exactly_same = 0\n",
    "amt_not_exactly_same = 0\n",
    "\n",
    "for i, review in enumerate(rewiewed_json):\n",
    "    p_id = review['data']['p_id']\n",
    "    flat_list_orig = [item for sublist in df_shuffled.loc[p_id].doc.to_dict() for item in sublist]\n",
    "    flat_list_rev =review['data']['clean_description'].split(' ')\n",
    "    length_problem=False\n",
    "    \n",
    "    #Check if length matches\n",
    "    if len(flat_list_orig) == len(flat_list_rev):\n",
    "        amt_same_len+=1\n",
    "    else:\n",
    "        amt_not_same_len +=1\n",
    "        print('Length Problem at pandas_id: {} and json item nr: {}'.format(p_id, i))\n",
    "        length_problem=True\n",
    "    \n",
    "    #Check each token if they are the equal:\n",
    "    same = True\n",
    "    for j, rev_span in enumerate(flat_list_rev):\n",
    "        if not flat_list_orig[j]['text']==rev_span:\n",
    "            if not ( flat_list_orig[j]['text'] == rev_span[:-1] and rev_span[-1:] == '.' ):\n",
    "                same = False\n",
    "                print('Detail Problem at pandas_id: {} and json item nr: {}'.format(p_id, i))\n",
    "                break\n",
    "    if same:\n",
    "        amt_exactly_same+=1\n",
    "        #If length and exact tokens are ok --> add label!\n",
    "        if not length_problem:\n",
    "            new_doc = annotate_doc(review, df_shuffled.loc[p_id].doc.to_dict())\n",
    "            new_doc = Document(new_doc)\n",
    "            df_shuffled.at[p_id, 'doc'] = new_doc\n",
    "    else:\n",
    "        amt_not_exactly_same+=1\n",
    "    \n",
    "print('{} rows had still the same amount of tokens. {} not. this is {} %'.format(amt_same_len, amt_not_same_len, amt_not_same_len/amt_same_len ))\n",
    "print('{} rows had exactly the same tokens. {} not. this is {} %'.format(amt_exactly_same, amt_not_exactly_same, amt_not_exactly_same/amt_exactly_same))"
   ]
  },
  {
   "cell_type": "code",
   "execution_count": 9,
   "metadata": {},
   "outputs": [],
   "source": [
    "#Investigate on errors\n",
    "#rewiewed_json[344]['data']['clean_description'].split(' ')\n",
    "#df_shuffled.loc[742].doc.to_dict()\n",
    "\n",
    "# Length Problem at pandas_id: 742 and json item nr: 344 --> I have no idea what happened here. in the \"shortTextDrugsV1.0.tsv\" \n",
    "#which I uploaded to appen it was still correct. In the Appen Export it was only a single \" in clean description --> guess that stuff\n",
    "# was lost in the cloud.\n",
    "# Length Problem at pandas_id: 802 and json item nr: 1105 \n",
    "#--> That's a simple problem (a additional space in the end which got removed at trim()) \n"
   ]
  },
  {
   "cell_type": "code",
   "execution_count": 10,
   "metadata": {},
   "outputs": [
    {
     "data": {
      "text/plain": [
       "[[{'id': 1, 'text': '17g', 'misc': 'start_char=0|end_char=3|label=O'},\n",
       "  {'id': 2, 'text': 'Super', 'misc': 'start_char=4|end_char=9|label=O'},\n",
       "  {'id': 3, 'text': 'Hash', 'misc': 'start_char=10|end_char=14|label=B-Drug'},\n",
       "  {'id': 4, 'text': 'Pollen', 'misc': 'start_char=15|end_char=21|label=O'},\n",
       "  {'id': 5, 'text': '/', 'misc': 'start_char=22|end_char=23|label=O'},\n",
       "  {'id': 6, 'text': 'Rif', 'misc': 'start_char=24|end_char=27|label=O'},\n",
       "  {'id': 7, 'text': 'Al', 'misc': 'start_char=28|end_char=30|label=O'},\n",
       "  {'id': 8, 'text': 'Hoceima', 'misc': 'start_char=31|end_char=38|label=O'}]]"
      ]
     },
     "execution_count": 10,
     "metadata": {},
     "output_type": "execute_result"
    }
   ],
   "source": [
    "test_dict = df_shuffled.loc[115].doc.to_dict()\n",
    "test_dict\n",
    "#conll = CoNLL.convert_dict(test_dict)\n",
    "#conll"
   ]
  },
  {
   "cell_type": "code",
   "execution_count": 11,
   "metadata": {},
   "outputs": [
    {
     "data": {
      "text/plain": [
       "{'completions': [{'created_at': 1612790712,\n",
       "   'id': 99001,\n",
       "   'lead_time': 1385.539,\n",
       "   'result': [{'from_name': 'label',\n",
       "     'id': 'Vb3CqYB7cF',\n",
       "     'to_name': 'text',\n",
       "     'type': 'labels',\n",
       "     'value': {'end': 15,\n",
       "      'labels': ['Drug'],\n",
       "      'start': 10,\n",
       "      'text': 'Hash '}}]}],\n",
       " 'data': {'clean_description': '17g Super Hash Pollen / Rif Al Hoceima.',\n",
       "  'dream_id': 367562,\n",
       "  'golden': False,\n",
       "  'name': '17g Super Hash Pollen / Rif Al Hoceima',\n",
       "  'p_id': 115},\n",
       " 'id': 99}"
      ]
     },
     "execution_count": 11,
     "metadata": {},
     "output_type": "execute_result"
    }
   ],
   "source": [
    "rewiewed_json[79]"
   ]
  },
  {
   "cell_type": "code",
   "execution_count": null,
   "metadata": {},
   "outputs": [],
   "source": []
  },
  {
   "cell_type": "code",
   "execution_count": null,
   "metadata": {},
   "outputs": [],
   "source": []
  },
  {
   "cell_type": "code",
   "execution_count": null,
   "metadata": {},
   "outputs": [],
   "source": []
  },
  {
   "cell_type": "code",
   "execution_count": null,
   "metadata": {},
   "outputs": [],
   "source": []
  },
  {
   "cell_type": "code",
   "execution_count": null,
   "metadata": {},
   "outputs": [],
   "source": []
  }
 ],
 "metadata": {
  "kernelspec": {
   "display_name": "NER36",
   "language": "python",
   "name": "ner36"
  },
  "language_info": {
   "codemirror_mode": {
    "name": "ipython",
    "version": 3
   },
   "file_extension": ".py",
   "mimetype": "text/x-python",
   "name": "python",
   "nbconvert_exporter": "python",
   "pygments_lexer": "ipython3",
   "version": "3.6.12"
  }
 },
 "nbformat": 4,
 "nbformat_minor": 4
}
