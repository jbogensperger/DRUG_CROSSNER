{
 "cells": [
  {
   "cell_type": "code",
   "execution_count": 1,
   "metadata": {},
   "outputs": [],
   "source": [
    "import pandas as pd\n",
    "import time\n",
    "import re"
   ]
  },
  {
   "cell_type": "code",
   "execution_count": 2,
   "metadata": {},
   "outputs": [
    {
     "name": "stdout",
     "output_type": "stream",
     "text": [
      "Shape: (2626, 2)  Columns Index(['title', 'text'], dtype='object')\n"
     ]
    }
   ],
   "source": [
    "#Read TextCorpus for Annotation\n",
    "df = pd.read_pickle('data/textCorpusV1.0')\n",
    "print(\"Shape:\", df.shape, \" Columns\", df.columns)"
   ]
  },
  {
   "cell_type": "code",
   "execution_count": 3,
   "metadata": {},
   "outputs": [
    {
     "data": {
      "text/html": [
       "<div>\n",
       "<style scoped>\n",
       "    .dataframe tbody tr th:only-of-type {\n",
       "        vertical-align: middle;\n",
       "    }\n",
       "\n",
       "    .dataframe tbody tr th {\n",
       "        vertical-align: top;\n",
       "    }\n",
       "\n",
       "    .dataframe thead th {\n",
       "        text-align: right;\n",
       "    }\n",
       "</style>\n",
       "<table border=\"1\" class=\"dataframe\">\n",
       "  <thead>\n",
       "    <tr style=\"text-align: right;\">\n",
       "      <th></th>\n",
       "      <th>title</th>\n",
       "      <th>text</th>\n",
       "    </tr>\n",
       "  </thead>\n",
       "  <tbody>\n",
       "    <tr>\n",
       "      <th>0</th>\n",
       "      <td>Gamma-Hydroxybutyric acid</td>\n",
       "      <td>gamma-Hydroxybutyric acid or -Hydroxybutyric a...</td>\n",
       "    </tr>\n",
       "    <tr>\n",
       "      <th>1</th>\n",
       "      <td>Benzodiazepine</td>\n",
       "      <td>Benzodiazepines (BZD, BDZ, BZs), sometimes cal...</td>\n",
       "    </tr>\n",
       "    <tr>\n",
       "      <th>2</th>\n",
       "      <td>MDMA</td>\n",
       "      <td>3,4-Methylenedioxymethamphetamine (MDMA), comm...</td>\n",
       "    </tr>\n",
       "    <tr>\n",
       "      <th>3</th>\n",
       "      <td>Phencyclidine</td>\n",
       "      <td>Phencyclidine or phenylcyclohexyl piperidine (...</td>\n",
       "    </tr>\n",
       "    <tr>\n",
       "      <th>4</th>\n",
       "      <td>Ketamine</td>\n",
       "      <td>Ketamine is a medication primarily used for st...</td>\n",
       "    </tr>\n",
       "    <tr>\n",
       "      <th>5</th>\n",
       "      <td>Hashish</td>\n",
       "      <td>Hashish, also known as 'hash', is a drug made ...</td>\n",
       "    </tr>\n",
       "    <tr>\n",
       "      <th>6</th>\n",
       "      <td>List of names for cannabis strains</td>\n",
       "      <td>Cannabis strains bred and grown commercially h...</td>\n",
       "    </tr>\n",
       "    <tr>\n",
       "      <th>7</th>\n",
       "      <td>Cannabis strain</td>\n",
       "      <td>Cannabis strains are either pure or hybrid var...</td>\n",
       "    </tr>\n",
       "    <tr>\n",
       "      <th>8</th>\n",
       "      <td>Cannabis edible</td>\n",
       "      <td>A cannabis edible, also known as a cannabis-in...</td>\n",
       "    </tr>\n",
       "    <tr>\n",
       "      <th>9</th>\n",
       "      <td>Cannabis concentrate</td>\n",
       "      <td>A cannabis concentrate (also called marijuana ...</td>\n",
       "    </tr>\n",
       "  </tbody>\n",
       "</table>\n",
       "</div>"
      ],
      "text/plain": [
       "                                title  \\\n",
       "0           Gamma-Hydroxybutyric acid   \n",
       "1                      Benzodiazepine   \n",
       "2                                MDMA   \n",
       "3                       Phencyclidine   \n",
       "4                            Ketamine   \n",
       "5                             Hashish   \n",
       "6  List of names for cannabis strains   \n",
       "7                     Cannabis strain   \n",
       "8                     Cannabis edible   \n",
       "9                Cannabis concentrate   \n",
       "\n",
       "                                                text  \n",
       "0  gamma-Hydroxybutyric acid or -Hydroxybutyric a...  \n",
       "1  Benzodiazepines (BZD, BDZ, BZs), sometimes cal...  \n",
       "2  3,4-Methylenedioxymethamphetamine (MDMA), comm...  \n",
       "3  Phencyclidine or phenylcyclohexyl piperidine (...  \n",
       "4  Ketamine is a medication primarily used for st...  \n",
       "5  Hashish, also known as 'hash', is a drug made ...  \n",
       "6  Cannabis strains bred and grown commercially h...  \n",
       "7  Cannabis strains are either pure or hybrid var...  \n",
       "8  A cannabis edible, also known as a cannabis-in...  \n",
       "9  A cannabis concentrate (also called marijuana ...  "
      ]
     },
     "execution_count": 3,
     "metadata": {},
     "output_type": "execute_result"
    }
   ],
   "source": [
    "df_old = df.copy()\n",
    "df.head(10)"
   ]
  },
  {
   "cell_type": "code",
   "execution_count": 36,
   "metadata": {},
   "outputs": [],
   "source": [
    "df = df_old.copy()"
   ]
  },
  {
   "cell_type": "code",
   "execution_count": 40,
   "metadata": {},
   "outputs": [],
   "source": [
    "def clean_text(text):\n",
    "    # replace everything after \" External links \" AND SEE ALSO\n",
    "    cleaned_text = re.split('[\\\\n]*=+\\s*See also\\s*=+[\\\\n]*', text, re.IGNORECASE)[0]#Remove last parts of the articles\n",
    "    cleaned_text = re.split('[\\\\n]*=+\\s*External links\\s*=+[\\\\n]*', cleaned_text, re.IGNORECASE)[0]\n",
    "    cleaned_text = re.split('[\\\\n]*=+\\s*References\\s*=+[\\\\n]*', cleaned_text, re.IGNORECASE)[0]\n",
    "    cleaned_text = re.sub('[\\\\n]*=+[^=]{1,200}=+[\\\\n]*', ' ', cleaned_text)#Remove these weird headlines..\n",
    "    cleaned_text = re.sub('\\n', ' ', cleaned_text)#Remove line breaks\n",
    "    \n",
    "    return cleaned_text\n",
    "\n",
    "df[\"text\"] = df[\"text\"].apply(lambda text: clean_text(text))"
   ]
  },
  {
   "cell_type": "code",
   "execution_count": 41,
   "metadata": {},
   "outputs": [
    {
     "data": {
      "text/plain": [
       "'Codeine/paracetamol, also known as codeine/acetaminophen and co-codamol, is a compound analgesic consisting of a combination of codeine phosphate and paracetamol (acetaminophen). Co-codamol tablets are used for the relief of mild to moderate pain when paracetamol or NSAIDs such as ibuprofen, aspirin or naproxen alone do not sufficiently relieve a patient\\'s symptoms, or where their use is ill-advised. Co-codamol is marketed under various brand names in addition to the generic name. Seven strengths are available:  8 mg of codeine phosphate per tablet (e.g. Tylenol 1 in US/Canada) 10 mg of codeine phosphate per tablet 12.8 mg of codeine phosphate per tablet 15 mg of codeine phosphate per tablet (e.g. brands Tylenol 2 in US/Canada, Norway, Australia (multiple brands), United Kingdom) 20 mg of codeine phosphate per tablet (Prontalgine in France, Empacod, South Africa and Zimbabwe) 30 mg of codeine phosphate per tablet (e.g. Tylenol 3 in US/Canada, ratio-Emtec-30 or \"Emtec\" in Canada, available elsewhere in capsules such as Tylex or in tablets/caplets e.g. Solpadol, Kapake, Panacod and Zapain). 60 mg of codeine phosphate per tablet (e.g. Tylenol 4 in US/Canada, and generally contain from 300 mg to 1000 mg), 1 gram of paracetamol per tablet.Combination products containing codeine are available over the counter in Barbados, Canada, United Kingdom, Israel and Costa Rica.Of the European Union (EU) member states, 12 countries (Bulgaria, Cyprus, Denmark, Estonia, France, Ireland, Latvia, Lithuania, Malta, Poland, Romania, Slovenia) allow the sale of OTC codeine solid dosage forms.In the UK and Ireland the 15/500 and 30/500 tablets are available only with a prescription, although the 8/500 strengths are available over-the-counter. In Australia the 30/500 tablets are available only with a prescription, and the 10/500 and 15/500 tablets were Schedule 3 (Pharmacist Only Medicine) until February 1, 2018 after which they were rescheduled to S4 (prescription only) along with all other codeine products. Manufacturer directions state not to exceed the recommended dosage of two tablets every four hours with a maximum of eight (8  500 mg) over a 24-hour period and no more than two (2  500 mg) at any one time. Other drugs containing paracetamol must be avoided unless otherwise directed by a prescriber or pharmacist; excessive amounts of paracetamol can lead to serious liver damage. See paracetamol toxicity. Co-codamol is marketed in Canada and the United States also under the generic name \"Atasol Codeine\". In the United Kingdom, it is marketed as \"Solpadeine Plus\" and \"Solpadeine Max\", as well as \"Solpadol\". In Australia it is marketed as \"Panadeine\", \"Panadeine Extra\" and \"Panadeine Forte\". In Norway, Co-codamol is sold as \"Paralgin Minor\" (15/200) (not available as of 2015), \"Paralgin Forte\" (30/400), \"Paralgin Major\" (60/800), \"Pinex Forte\" (30/500) and \"Pinex Major\" (60/1000). Side effects can include blood from mouth, skin rashes, dizziness, sedation, shortness of breath, hypersensitivity reaction, fainting (syncope or near syncope), nausea or vomiting, confusion, loss of short-term memory, drowsiness, changes in blood, allergic reactions, euphoria, dysphoria, abdominal pain, itchiness, easy bruising, bleeding gums, vivid dreams, dry mouth and addiction.Genetic differences between people give rise to differing rates of metabolism of codeine to morphine. In about 5% of people this may happen particularly fast, leading to higher levels of morphine being passed through breast milk in amounts potentially able to cause fatal respiratory depression of a breastfed baby.'"
      ]
     },
     "execution_count": 41,
     "metadata": {},
     "output_type": "execute_result"
    }
   ],
   "source": [
    "df[\"text\"].iloc[1002]"
   ]
  },
  {
   "cell_type": "code",
   "execution_count": 42,
   "metadata": {},
   "outputs": [
    {
     "data": {
      "text/plain": [
       "'Codeine/paracetamol, also known as codeine/acetaminophen and co-codamol, is a compound analgesic consisting of a combination of codeine phosphate and paracetamol (acetaminophen). Co-codamol tablets are used for the relief of mild to moderate pain when paracetamol or NSAIDs such as ibuprofen, aspirin or naproxen alone do not sufficiently relieve a patient\\'s symptoms, or where their use is ill-advised.\\nCo-codamol is marketed under various brand names in addition to the generic name.\\n\\n\\n== Formulations ==\\n\\nSeven strengths are available:\\n\\n8 mg of codeine phosphate per tablet (e.g. Tylenol 1 in US/Canada)\\n10 mg of codeine phosphate per tablet\\n12.8 mg of codeine phosphate per tablet\\n15 mg of codeine phosphate per tablet (e.g. brands Tylenol 2 in US/Canada, Norway, Australia (multiple brands), United Kingdom)\\n20 mg of codeine phosphate per tablet (Prontalgine in France, Empacod, South Africa and Zimbabwe)\\n30 mg of codeine phosphate per tablet (e.g. Tylenol 3 in US/Canada, ratio-Emtec-30 or \"Emtec\" in Canada, available elsewhere in capsules such as Tylex or in tablets/caplets e.g. Solpadol, Kapake, Panacod and Zapain).\\n60 mg of codeine phosphate per tablet (e.g. Tylenol 4 in US/Canada, and generally contain from 300 mg to 1000 mg), 1 gram of paracetamol per tablet.Combination products containing codeine are available over the counter in Barbados, Canada, United Kingdom, Israel and Costa Rica.Of the European Union (EU) member states, 12 countries (Bulgaria, Cyprus, Denmark, Estonia, France, Ireland, Latvia, Lithuania, Malta, Poland, Romania, Slovenia) allow the sale of OTC codeine solid dosage forms.In the UK and Ireland the 15/500 and 30/500 tablets are available only with a prescription, although the 8/500 strengths are available over-the-counter. In Australia the 30/500 tablets are available only with a prescription, and the 10/500 and 15/500 tablets were Schedule 3 (Pharmacist Only Medicine) until February 1, 2018 after which they were rescheduled to S4 (prescription only) along with all other codeine products. Manufacturer directions state not to exceed the recommended dosage of two tablets every four hours with a maximum of eight (8  500 mg) over a 24-hour period and no more than two (2  500 mg) at any one time. Other drugs containing paracetamol must be avoided unless otherwise directed by a prescriber or pharmacist; excessive amounts of paracetamol can lead to serious liver damage. See paracetamol toxicity.\\nCo-codamol is marketed in Canada and the United States also under the generic name \"Atasol Codeine\". In the United Kingdom, it is marketed as \"Solpadeine Plus\" and \"Solpadeine Max\", as well as \"Solpadol\". In Australia it is marketed as \"Panadeine\", \"Panadeine Extra\" and \"Panadeine Forte\". In Norway, Co-codamol is sold as \"Paralgin Minor\" (15/200) (not available as of 2015), \"Paralgin Forte\" (30/400), \"Paralgin Major\" (60/800), \"Pinex Forte\" (30/500) and \"Pinex Major\" (60/1000).\\n\\n\\n== Side effects ==\\nSide effects can include blood from mouth, skin rashes, dizziness, sedation, shortness of breath, hypersensitivity reaction, fainting (syncope or near syncope), nausea or vomiting, confusion, loss of short-term memory, drowsiness, changes in blood, allergic reactions, euphoria, dysphoria, abdominal pain, itchiness, easy bruising, bleeding gums, vivid dreams, dry mouth and addiction.Genetic differences between people give rise to differing rates of metabolism of codeine to morphine. In about 5% of people this may happen particularly fast, leading to higher levels of morphine being passed through breast milk in amounts potentially able to cause fatal respiratory depression of a breastfed baby.\\n\\n\\n== See also ==\\nCo-codaprin\\nCo-dydramol\\nCo-proxamol\\n\\n\\n== References =='"
      ]
     },
     "execution_count": 42,
     "metadata": {},
     "output_type": "execute_result"
    }
   ],
   "source": [
    "df_old[\"text\"].iloc[1002]"
   ]
  },
  {
   "cell_type": "code",
   "execution_count": 43,
   "metadata": {},
   "outputs": [],
   "source": [
    "df.to_pickle('data/textCorpusCleanedV1.0')"
   ]
  },
  {
   "cell_type": "code",
   "execution_count": null,
   "metadata": {},
   "outputs": [],
   "source": []
  },
  {
   "cell_type": "code",
   "execution_count": null,
   "metadata": {},
   "outputs": [],
   "source": []
  }
 ],
 "metadata": {
  "kernelspec": {
   "display_name": "NER36",
   "language": "python",
   "name": "ner36"
  },
  "language_info": {
   "codemirror_mode": {
    "name": "ipython",
    "version": 3
   },
   "file_extension": ".py",
   "mimetype": "text/x-python",
   "name": "python",
   "nbconvert_exporter": "python",
   "pygments_lexer": "ipython3",
   "version": "3.6.12"
  }
 },
 "nbformat": 4,
 "nbformat_minor": 4
}
