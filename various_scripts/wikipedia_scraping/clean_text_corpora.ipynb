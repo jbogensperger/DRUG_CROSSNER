{
 "cells": [
  {
   "cell_type": "code",
   "execution_count": 1,
   "metadata": {},
   "outputs": [],
   "source": [
    "import pandas as pd\n",
    "import time\n",
    "import re"
   ]
  },
  {
   "cell_type": "code",
   "execution_count": 2,
   "metadata": {},
   "outputs": [
    {
     "name": "stdout",
     "output_type": "stream",
     "text": [
      "Shape: (3210, 2)  Columns Index(['title', 'text'], dtype='object')\n"
     ]
    }
   ],
   "source": [
    "#Read TextCorpus for Annotation\n",
    "df = pd.read_pickle('data/textCorpusV1.0')\n",
    "print(\"Shape:\", df.shape, \" Columns\", df.columns)"
   ]
  },
  {
   "cell_type": "code",
   "execution_count": 3,
   "metadata": {},
   "outputs": [
    {
     "data": {
      "text/html": [
       "<div>\n",
       "<style scoped>\n",
       "    .dataframe tbody tr th:only-of-type {\n",
       "        vertical-align: middle;\n",
       "    }\n",
       "\n",
       "    .dataframe tbody tr th {\n",
       "        vertical-align: top;\n",
       "    }\n",
       "\n",
       "    .dataframe thead th {\n",
       "        text-align: right;\n",
       "    }\n",
       "</style>\n",
       "<table border=\"1\" class=\"dataframe\">\n",
       "  <thead>\n",
       "    <tr style=\"text-align: right;\">\n",
       "      <th></th>\n",
       "      <th>title</th>\n",
       "      <th>text</th>\n",
       "    </tr>\n",
       "  </thead>\n",
       "  <tbody>\n",
       "    <tr>\n",
       "      <th>0</th>\n",
       "      <td>Gamma-Hydroxybutyric acid</td>\n",
       "      <td>gamma-Hydroxybutyric acid or -Hydroxybutyric a...</td>\n",
       "    </tr>\n",
       "    <tr>\n",
       "      <th>1</th>\n",
       "      <td>Benzodiazepine</td>\n",
       "      <td>Benzodiazepines (BZD, BDZ, BZs), sometimes cal...</td>\n",
       "    </tr>\n",
       "    <tr>\n",
       "      <th>2</th>\n",
       "      <td>MDMA</td>\n",
       "      <td>3,4-Methylenedioxymethamphetamine (MDMA), comm...</td>\n",
       "    </tr>\n",
       "    <tr>\n",
       "      <th>3</th>\n",
       "      <td>Phencyclidine</td>\n",
       "      <td>Phencyclidine or phenylcyclohexyl piperidine (...</td>\n",
       "    </tr>\n",
       "    <tr>\n",
       "      <th>4</th>\n",
       "      <td>Ketamine</td>\n",
       "      <td>Ketamine is a medication primarily used for st...</td>\n",
       "    </tr>\n",
       "    <tr>\n",
       "      <th>5</th>\n",
       "      <td>Hashish</td>\n",
       "      <td>Hashish, also known as 'hash', Arabic [], is a...</td>\n",
       "    </tr>\n",
       "    <tr>\n",
       "      <th>6</th>\n",
       "      <td>List of names for cannabis strains</td>\n",
       "      <td>Cannabis strains bred and grown commercially h...</td>\n",
       "    </tr>\n",
       "    <tr>\n",
       "      <th>7</th>\n",
       "      <td>Cannabis strain</td>\n",
       "      <td>Cannabis strains are either pure or hybrid var...</td>\n",
       "    </tr>\n",
       "    <tr>\n",
       "      <th>8</th>\n",
       "      <td>Cannabis edible</td>\n",
       "      <td>A cannabis edible, also known as a cannabis-in...</td>\n",
       "    </tr>\n",
       "    <tr>\n",
       "      <th>9</th>\n",
       "      <td>Cannabis concentrate</td>\n",
       "      <td>A cannabis concentrate (also called marijuana ...</td>\n",
       "    </tr>\n",
       "  </tbody>\n",
       "</table>\n",
       "</div>"
      ],
      "text/plain": [
       "                                title  \\\n",
       "0           Gamma-Hydroxybutyric acid   \n",
       "1                      Benzodiazepine   \n",
       "2                                MDMA   \n",
       "3                       Phencyclidine   \n",
       "4                            Ketamine   \n",
       "5                             Hashish   \n",
       "6  List of names for cannabis strains   \n",
       "7                     Cannabis strain   \n",
       "8                     Cannabis edible   \n",
       "9                Cannabis concentrate   \n",
       "\n",
       "                                                text  \n",
       "0  gamma-Hydroxybutyric acid or -Hydroxybutyric a...  \n",
       "1  Benzodiazepines (BZD, BDZ, BZs), sometimes cal...  \n",
       "2  3,4-Methylenedioxymethamphetamine (MDMA), comm...  \n",
       "3  Phencyclidine or phenylcyclohexyl piperidine (...  \n",
       "4  Ketamine is a medication primarily used for st...  \n",
       "5  Hashish, also known as 'hash', Arabic [], is a...  \n",
       "6  Cannabis strains bred and grown commercially h...  \n",
       "7  Cannabis strains are either pure or hybrid var...  \n",
       "8  A cannabis edible, also known as a cannabis-in...  \n",
       "9  A cannabis concentrate (also called marijuana ...  "
      ]
     },
     "execution_count": 3,
     "metadata": {},
     "output_type": "execute_result"
    }
   ],
   "source": [
    "df_old = df.copy()\n",
    "df.head(10)"
   ]
  },
  {
   "cell_type": "code",
   "execution_count": 4,
   "metadata": {},
   "outputs": [],
   "source": [
    "df = df_old.copy()"
   ]
  },
  {
   "cell_type": "code",
   "execution_count": 5,
   "metadata": {},
   "outputs": [],
   "source": [
    "def clean_text(text):\n",
    "    # replace everything after \" External links \" AND SEE ALSO\n",
    "    cleaned_text = re.split('[\\\\n]*=+\\s*See also\\s*=+[\\\\n]*', text, re.IGNORECASE)[0]#Remove last parts of the articles\n",
    "    cleaned_text = re.split('[\\\\n]*=+\\s*External links\\s*=+[\\\\n]*', cleaned_text, re.IGNORECASE)[0]\n",
    "    cleaned_text = re.split('[\\\\n]*=+\\s*References\\s*=+[\\\\n]*', cleaned_text, re.IGNORECASE)[0]\n",
    "    cleaned_text = re.sub('[\\\\n]*=+[^=]{1,200}=+[\\\\n]*', ' ', cleaned_text)#Remove these weird headlines..\n",
    "    cleaned_text = re.sub('\\n', ' ', cleaned_text)#Remove line breaks\n",
    "    \n",
    "    return cleaned_text\n",
    "\n",
    "df[\"text\"] = df[\"text\"].apply(lambda text: clean_text(text))"
   ]
  },
  {
   "cell_type": "code",
   "execution_count": 6,
   "metadata": {},
   "outputs": [
    {
     "data": {
      "text/plain": [
       "'Coronaridine, also known as 18-carbomethoxyibogamine, is an alkaloid found in Tabernanthe iboga and related species, including Tabernaemontana divaricata for which (under the now obsolete synonym Ervatamia coronaria) it was named. Coronaridine has been reported to bind to an assortment of molecular sites, including: -opioid (Ki   8.1 M), and -opioid receptors (Ki   6.24 M) (as an antagonist), and nAChRs (as an antagonist). It has also been found to inhibit the enzyme acetylcholinesterase, act as a voltage-gated sodium channel blocker, and displays estrogenic activity in rodents. In contrast to ibogaine and other iboga alkaloids, coronaridine does not bind to either the 1 or 2 receptor. '"
      ]
     },
     "execution_count": 6,
     "metadata": {},
     "output_type": "execute_result"
    }
   ],
   "source": [
    "df[\"text\"].iloc[1002]"
   ]
  },
  {
   "cell_type": "code",
   "execution_count": 7,
   "metadata": {},
   "outputs": [
    {
     "data": {
      "text/plain": [
       "'Coronaridine, also known as 18-carbomethoxyibogamine, is an alkaloid found in Tabernanthe iboga and related species, including Tabernaemontana divaricata for which (under the now obsolete synonym Ervatamia coronaria) it was named.\\n\\n\\n== Pharmacology ==\\nCoronaridine has been reported to bind to an assortment of molecular sites, including: -opioid (Ki = 2.0 M), -opioid (Ki = 8.1 M), and -opioid receptors (Ki = 4.3 M), NMDA receptor (Ki = 6.24 M) (as an antagonist), and nAChRs (as an antagonist). It has also been found to inhibit the enzyme acetylcholinesterase, act as a voltage-gated sodium channel blocker, and displays estrogenic activity in rodents. In contrast to ibogaine and other iboga alkaloids, coronaridine does not bind to either the 1 or 2 receptor.\\n\\n\\n== Sources ==\\n\\n\\n== See also ==\\nIbogaine\\nIbogamine\\nTabernanthine\\nVoacangine\\n\\n\\n== References =='"
      ]
     },
     "execution_count": 7,
     "metadata": {},
     "output_type": "execute_result"
    }
   ],
   "source": [
    "df_old[\"text\"].iloc[1002]"
   ]
  },
  {
   "cell_type": "code",
   "execution_count": 8,
   "metadata": {},
   "outputs": [],
   "source": [
    "df.to_pickle('data/textCorpusCleanedV1.0')"
   ]
  },
  {
   "cell_type": "code",
   "execution_count": null,
   "metadata": {},
   "outputs": [],
   "source": []
  },
  {
   "cell_type": "code",
   "execution_count": null,
   "metadata": {},
   "outputs": [],
   "source": []
  }
 ],
 "metadata": {
  "kernelspec": {
   "display_name": "NER36",
   "language": "python",
   "name": "ner36"
  },
  "language_info": {
   "codemirror_mode": {
    "name": "ipython",
    "version": 3
   },
   "file_extension": ".py",
   "mimetype": "text/x-python",
   "name": "python",
   "nbconvert_exporter": "python",
   "pygments_lexer": "ipython3",
   "version": "3.6.12"
  }
 },
 "nbformat": 4,
 "nbformat_minor": 4
}
