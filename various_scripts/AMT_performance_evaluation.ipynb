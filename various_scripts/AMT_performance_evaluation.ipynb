{
 "cells": [
  {
   "cell_type": "code",
   "execution_count": 1,
   "metadata": {},
   "outputs": [],
   "source": [
    "import json\n",
    "import os\n",
    "import pandas as pd\n",
    "import more_itertools as mit\n",
    "from collections import Counter\n",
    "import collections \n",
    "import pickle\n",
    "import time\n",
    "import copy\n",
    "from itertools import combinations\n",
    "from collections import OrderedDict    \n"
   ]
  },
  {
   "cell_type": "code",
   "execution_count": 2,
   "metadata": {},
   "outputs": [
    {
     "data": {
      "text/plain": [
       "(7612, 32)"
      ]
     },
     "execution_count": 2,
     "metadata": {},
     "output_type": "execute_result"
    }
   ],
   "source": [
    "all_files = [\"Long_Batch_4364840_0_100_results_v3\" ,\n",
    "             \"Long_Batch_4367993_100_300_results_v2\" ,\n",
    "             \"Long_Batch_4371552_300_500_results_v3\" ,\n",
    "             \"Long_Batch_4374976_500_700_results_v3\" ,\n",
    "             \"Batch_4360660_100_200_results\" \n",
    "             ,\"Batch_4362039_200_500_results\" ,\n",
    "             \"Batch_4363418_500_1100_results_v5\" ,\n",
    "             \"Batch_4377561_1100_1600_results_v2\" ,\n",
    "             \"Batch_4383845_1600_1900_results\"]\n",
    "\n",
    "amt_results = None\n",
    "for filename in all_files:\n",
    "    if amt_results is not None:\n",
    "        read_in = pd.read_csv(\"amt_results/raw_csv/\" + filename + \".csv\")\n",
    "        amt_results = pd.concat([amt_results, read_in], axis=0)\n",
    "    else:\n",
    "        amt_results = pd.read_csv(\"amt_results/raw_csv/\" + filename + \".csv\")\n",
    "        \n",
    "amt_results.shape  "
   ]
  },
  {
   "cell_type": "code",
   "execution_count": 3,
   "metadata": {},
   "outputs": [
    {
     "data": {
      "text/plain": [
       "HITId                           object\n",
       "HITTypeId                       object\n",
       "Title                           object\n",
       "Description                     object\n",
       "Keywords                        object\n",
       "Reward                          object\n",
       "CreationTime                    object\n",
       "MaxAssignments                   int64\n",
       "RequesterAnnotation             object\n",
       "AssignmentDurationInSeconds      int64\n",
       "AutoApprovalDelayInSeconds       int64\n",
       "Expiration                      object\n",
       "NumberOfSimilarHITs            float64\n",
       "LifetimeInSeconds              float64\n",
       "AssignmentId                    object\n",
       "WorkerId                        object\n",
       "AssignmentStatus                object\n",
       "AcceptTime                      object\n",
       "SubmitTime                      object\n",
       "AutoApprovalTime                object\n",
       "ApprovalTime                    object\n",
       "RejectionTime                   object\n",
       "RequesterFeedback               object\n",
       "WorkTimeInSeconds                int64\n",
       "LifetimeApprovalRate            object\n",
       "Last30DaysApprovalRate          object\n",
       "Last7DaysApprovalRate           object\n",
       "Input.dream_id_name             object\n",
       "Input.clean_description         object\n",
       "Answer.taskAnswers              object\n",
       "Approve                        float64\n",
       "Reject                         float64\n",
       "dtype: object"
      ]
     },
     "execution_count": 3,
     "metadata": {},
     "output_type": "execute_result"
    }
   ],
   "source": [
    "run1=\"AMT_First_batch_03032021\"\n",
    "run2=\"AMT_2nd_batch_09032021\"\n",
    "run3=\"Batch_4360660_100_200_results\"\n",
    "run4=\"Batch_4362039_200_500_results\"\n",
    "run5=\"Batch_4363418_500_1100_results\"\n",
    "run6=\"Batch_4363418_500_1100_results_v2\"\n",
    "run7 = \"Long_Batch_4364840_0_100_results\"\n",
    "run8 = \"Long_Batch_4364840_0_100_results_v2\"\n",
    "run9 = \"Long_Batch_4367993_100_300_results\"\n",
    "run10 = \"Long_Batch_4371552_300_500_results\"\n",
    "run11 = \"Long_Batch_4371552_300_500_results_v2\"\n",
    "run12 = \"Long_Batch_4374976_500_700_results\"\n",
    "run13 = \"Long_Batch_4374976_500_700_results_v2\"\n",
    "run14=\"Batch_4363418_500_1100_results_v5\"\n",
    "run15 = \"Batch_4377561_1100_1600_results\"\n",
    "run16 = \"Long_Batch_4364840_0_100_results_v3\"\n",
    "run17= \"Long_Batch_4367993_100_300_results_v2\"\n",
    "run18= \"Long_Batch_4371552_300_500_results_v3\"\n",
    "run19= \"Long_Batch_4374976_500_700_results_v3\"\n",
    "run20= \"Batch_4377561_1100_1600_results_v2\"\n",
    "run21=\"Batch_4383845_1600_1900_results\"\n",
    "\n",
    "#Means to read in single files..\n",
    "#filename = run21\n",
    "#amt_results = pd.read_csv(\"amt_results/raw_csv/\" + filename + \".csv\")\n",
    "\n",
    "amt_results['Input.dream_id_name'] = amt_results['Input.dream_id_name'].astype('str')\n",
    "amt_results['Input.clean_description'] = amt_results['Input.clean_description'].astype('str') \n",
    "amt_results.dtypes"
   ]
  },
  {
   "cell_type": "markdown",
   "metadata": {},
   "source": [
    "# Filter to only SUBMITTED IF NEEDED and remove rejected rows."
   ]
  },
  {
   "cell_type": "code",
   "execution_count": 4,
   "metadata": {},
   "outputs": [
    {
     "data": {
      "text/plain": [
       "(7612, 32)"
      ]
     },
     "execution_count": 4,
     "metadata": {},
     "output_type": "execute_result"
    }
   ],
   "source": [
    "amt_results.shape"
   ]
  },
  {
   "cell_type": "code",
   "execution_count": 5,
   "metadata": {},
   "outputs": [
    {
     "data": {
      "text/plain": [
       "(7396, 32)"
      ]
     },
     "execution_count": 5,
     "metadata": {},
     "output_type": "execute_result"
    }
   ],
   "source": [
    "amt_results = amt_results[amt_results['RejectionTime'].isna()]\n",
    "amt_results.shape"
   ]
  },
  {
   "cell_type": "code",
   "execution_count": 6,
   "metadata": {},
   "outputs": [
    {
     "data": {
      "text/plain": [
       "Approved     6498\n",
       "Submitted     898\n",
       "Name: AssignmentStatus, dtype: int64"
      ]
     },
     "execution_count": 6,
     "metadata": {},
     "output_type": "execute_result"
    }
   ],
   "source": [
    "amt_results['AssignmentStatus'].value_counts()"
   ]
  },
  {
   "cell_type": "code",
   "execution_count": 7,
   "metadata": {},
   "outputs": [
    {
     "data": {
      "text/plain": [
       "(7396, 32)"
      ]
     },
     "execution_count": 7,
     "metadata": {},
     "output_type": "execute_result"
    }
   ],
   "source": [
    "#amt_results = amt_results[amt_results['AssignmentStatus']=='Submitted'].copy()\n",
    "amt_results.shape"
   ]
  },
  {
   "cell_type": "markdown",
   "metadata": {},
   "source": [
    "# Convert HTML encoded characters back to normal"
   ]
  },
  {
   "cell_type": "code",
   "execution_count": 8,
   "metadata": {},
   "outputs": [],
   "source": [
    "amt_results['Input.clean_description'] = amt_results['Input.clean_description'].str.strip(\"'\")\n",
    "amt_results['Input.dream_id_name'] = amt_results['Input.dream_id_name'].str.strip(\"'\")\n",
    "\n",
    "amt_results['Input.clean_description'] = amt_results['Input.clean_description'].str.replace('&#44', ',')\n",
    "amt_results['Input.clean_description'] = amt_results['Input.clean_description'].str.replace('&#39', '\\'')\n",
    "amt_results['Input.clean_description'] = amt_results['Input.clean_description'].str.replace('&#34', '\\\"')\n",
    "amt_results['Input.dream_id_name'] = amt_results['Input.dream_id_name'].str.replace('&#44', ',')\n",
    "amt_results['Input.dream_id_name'] = amt_results['Input.dream_id_name'].str.replace('&#39', '\\'')\n",
    "amt_results['Input.dream_id_name'] = amt_results['Input.dream_id_name'].str.replace('&#34', '\\\"')"
   ]
  },
  {
   "cell_type": "code",
   "execution_count": null,
   "metadata": {},
   "outputs": [],
   "source": []
  },
  {
   "cell_type": "code",
   "execution_count": null,
   "metadata": {},
   "outputs": [],
   "source": []
  },
  {
   "cell_type": "markdown",
   "metadata": {},
   "source": [
    "# Majority vote Aggregation Mechanism\n",
    "\n"
   ]
  },
  {
   "cell_type": "code",
   "execution_count": 9,
   "metadata": {},
   "outputs": [
    {
     "name": "stdout",
     "output_type": "stream",
     "text": [
      "Empty annotation!!\n",
      "Empty annotation!!\n",
      "Empty annotation!!\n",
      "Empty annotation!!\n",
      "Empty annotation!!\n",
      "Empty annotation!!\n"
     ]
    }
   ],
   "source": [
    "def calculate_annotated_ranges(taskAnswers):\n",
    "    \n",
    "    answer= json.loads(taskAnswers)\n",
    "    marked_chars = []\n",
    "    if len(answer) != 0 and  len(list(answer[0].keys())) != 0:\n",
    "        key= list(answer[0].keys())[0] \n",
    "        for ent in answer[0][key]['entities']:\n",
    "            #entity_tuples.append((ent['startOffset'], ent['endOffset']))\n",
    "            marked_chars.extend(range(ent['startOffset'], ent['endOffset']))\n",
    "    else:\n",
    "        print(\"Empty annotation!!\")\n",
    "        \n",
    "    return marked_chars\n",
    "amt_results['marked_chars'] = amt_results['Answer.taskAnswers'].apply(lambda answer: calculate_annotated_ranges(answer))    "
   ]
  },
  {
   "cell_type": "code",
   "execution_count": 10,
   "metadata": {},
   "outputs": [],
   "source": [
    "def aggregate_ranges(series):\n",
    "    counter = collections.Counter() \n",
    "    for annotation in series:\n",
    "        counter.update(Counter(annotation)) \n",
    "\n",
    "    threshold = len(series) / 2\n",
    "    mv_dict= {key:val for key, val in dict(counter).items() if val >= threshold}\n",
    "    final_ranges=[]\n",
    "    \n",
    "    for group in mit.consecutive_groups(list(mv_dict.keys())):\n",
    "        group_list = list(group)\n",
    "        final_ranges.append((group_list[0], group_list[-1]))\n",
    "    return final_ranges\n",
    "\n",
    "#test = amt_results[amt_results.HITId == '3BFF0DJK8XC0JVZWP5F1P36TQW6STQ']\n",
    "#test.groupby('HITId').marked_chars.agg(aggregate_ranges)\n",
    "mv_annotations = amt_results.groupby('HITId').marked_chars.agg(aggregate_ranges)\n",
    "\n",
    "def convert_marked_chars_to_spans(marked_chars):\n",
    "    final_ranges=[]\n",
    "    for group in mit.consecutive_groups(marked_chars):\n",
    "        group_list = list(group)\n",
    "        final_ranges.append((group_list[0], group_list[-1]))\n",
    "    return final_ranges\n",
    "    \n",
    "\n",
    "\n",
    "amt_results['marked_spans'] = amt_results['marked_chars'].apply(lambda marked_chars: convert_marked_chars_to_spans(marked_chars))"
   ]
  },
  {
   "cell_type": "markdown",
   "metadata": {},
   "source": [
    "# Performance Evaluation\n",
    "Create Worker dict\n",
    "Loop over combination of workers --> evaluate "
   ]
  },
  {
   "cell_type": "code",
   "execution_count": 11,
   "metadata": {},
   "outputs": [
    {
     "data": {
      "text/plain": [
       "0      None\n",
       "1      None\n",
       "2      None\n",
       "3      None\n",
       "4      None\n",
       "       ... \n",
       "893    None\n",
       "894    None\n",
       "895    None\n",
       "896    None\n",
       "897    None\n",
       "Length: 7396, dtype: object"
      ]
     },
     "execution_count": 11,
     "metadata": {},
     "output_type": "execute_result"
    }
   ],
   "source": [
    "worker_annotations = {}\n",
    "def write_to_dict(worker_id, unit_id, anno_list):\n",
    "    if worker_id in worker_annotations:\n",
    "        current_elements = worker_annotations[worker_id]\n",
    "        current_elements[unit_id] = anno_list\n",
    "        worker_annotations[worker_id] = current_elements\n",
    "    else:\n",
    "        worker_annotations[worker_id] = {unit_id:anno_list}\n",
    "    \n",
    "    \n",
    "amt_results.apply(lambda row: write_to_dict(row['WorkerId'], row['HITId'], row['marked_chars']), axis = 1)"
   ]
  },
  {
   "cell_type": "code",
   "execution_count": 12,
   "metadata": {},
   "outputs": [],
   "source": [
    "# Credits to Louis de Bruijn (https://towardsdatascience.com/inter-annotator-agreement-2f46c6d37bf3)\n",
    "def cohen_kappa(ann1, ann2):\n",
    "    \"\"\"Computes Cohen kappa for pair-wise annotators.\n",
    "    :param ann1: annotations provided by first annotator\n",
    "    :type ann1: list\n",
    "    :param ann2: annotations provided by second annotator\n",
    "    :type ann2: list\n",
    "    :rtype: float\n",
    "    :return: Cohen kappa statistic\n",
    "    \"\"\"\n",
    "    count = 0\n",
    "    for an1, an2 in zip(ann1, ann2):\n",
    "        if an1 == an2:\n",
    "            count += 1\n",
    "    A = count / len(ann1)  # observed agreement A (Po)\n",
    "\n",
    "    uniq = set(ann1 + ann2)\n",
    "    E = 0  # expected agreement E (Pe)\n",
    "    for item in uniq:\n",
    "        cnt1 = ann1.count(item)\n",
    "        cnt2 = ann2.count(item)\n",
    "        count = ((cnt1 / len(ann1)) * (cnt2 / len(ann2)))\n",
    "        E += count\n",
    "\n",
    "    return round((A - E) / (1 - E), 4)"
   ]
  },
  {
   "cell_type": "code",
   "execution_count": 13,
   "metadata": {},
   "outputs": [],
   "source": [
    "# FScore formula for inter annotator agreement from: https://www.ncbi.nlm.nih.gov/pmc/articles/PMC1090460/\n",
    "\n",
    "def write_to_worker(worker_id, a, b, c):\n",
    "    if worker_id in worker_a:\n",
    "        worker_a[worker_id] = worker_a[worker_id] + a\n",
    "        worker_b[worker_id] = worker_b[worker_id] + b\n",
    "        worker_c[worker_id] = worker_c[worker_id] + c\n",
    "    else:\n",
    "        worker_a[worker_id] = a\n",
    "        worker_b[worker_id] = b\n",
    "        worker_c[worker_id] = c\n",
    "    \n",
    "\n",
    "micro_fscores={}\n",
    "cohen_kappas = {}\n",
    "unique_worker_combis = list(combinations(amt_results.WorkerId.unique(), 2))\n",
    "\n",
    "#Global Fscore\n",
    "g_a = 0\n",
    "g_b = 0\n",
    "g_c = 0\n",
    "\n",
    "#Worker specific performance IAA\n",
    "worker_a={}\n",
    "worker_b={}\n",
    "worker_c={}\n",
    "\n",
    "for (worker1, worker2) in unique_worker_combis:\n",
    "    intersection = worker_annotations[worker1].keys() & worker_annotations[worker2].keys()\n",
    "    w1_full_annos = []\n",
    "    w2_full_annos = []\n",
    "    \n",
    "    # Calculate Measures only for overlapping pairs..\n",
    "    if len(intersection) > 0: \n",
    "        #micro Fscores\n",
    "        a = 0\n",
    "        b = 0\n",
    "        c = 0\n",
    "        for item in intersection:\n",
    "            a += len(set(worker_annotations[worker1][item]) & set(worker_annotations[worker2][item]))\n",
    "            b += len(set(worker_annotations[worker1][item]) - set(worker_annotations[worker2][item]))\n",
    "            c += len(set(worker_annotations[worker2][item]) - set(worker_annotations[worker1][item]))\n",
    "            \n",
    "            #Create 0/1 list for whole description for cohen's kappa\n",
    "            amt_row=amt_results[amt_results['HITId'] == item].iloc[0]\n",
    "            if len(amt_row['Input.clean_description']) <= 0:\n",
    "                print('ERROR at %s'%(item))\n",
    "            worker1_indexes = [0] * len(amt_row['Input.clean_description'])\n",
    "            worker2_indexes = [0] * len(amt_row['Input.clean_description'])\n",
    "            for i in worker_annotations[worker1][item]:\n",
    "                worker1_indexes[i] = 1 \n",
    "            for i in worker_annotations[worker2][item]:\n",
    "                worker2_indexes[i] = 1 \n",
    "            w1_full_annos.extend(worker1_indexes)\n",
    "            w2_full_annos.extend(worker2_indexes)\n",
    "            \n",
    "            #count for each worker indiviually\n",
    "            write_to_worker(worker1, a, b, c)\n",
    "            write_to_worker(worker2, a, b, c)\n",
    "            \n",
    "        g_a += a\n",
    "        g_b += b\n",
    "        g_c += c\n",
    "            \n",
    "        #print(item, ' a:', a, ' b:', b, 'c:', c)\n",
    "        #F-Score for user pair\n",
    "        if a != 0 or b != 0 or c != 0:\n",
    "            fscore = 2*a /  ( (2*a) + b + c )\n",
    "            micro_fscores[(worker1, worker2)] = fscore\n",
    "            #Cohens Kappa for user pai\n",
    "            cohen_kappas[(worker1, worker2)] = cohen_kappa(w1_full_annos, w2_full_annos)\n",
    "        else:\n",
    "            fscore = 1 #TODO Check if that is really true\n",
    "\n",
    "            \n"
   ]
  },
  {
   "cell_type": "code",
   "execution_count": 14,
   "metadata": {},
   "outputs": [
    {
     "name": "stdout",
     "output_type": "stream",
     "text": [
      "The Mikro F-Score is:  0.7908468510904161\n",
      "The Makro F-Score is:  0.7755108807684655\n",
      "The Avg. Pairwise Cohen Kappa is:  0.7603251655629136\n"
     ]
    }
   ],
   "source": [
    "#Report Global F1 Score        \n",
    "global_fscore = 2*g_a /  ( (2*g_a) + g_b + g_c )\n",
    "print('The Mikro F-Score is: ', global_fscore)\n",
    "\n",
    "#Micro Average F1 Score\n",
    "makro_fscore = 0\n",
    "for val in micro_fscores.values(): \n",
    "    makro_fscore += val \n",
    "\n",
    "makro_fscore = makro_fscore / len(micro_fscores)\n",
    "print('The Makro F-Score is: ', makro_fscore)\n",
    "\n",
    "#Micro Averaged Cohens Kappa\n",
    "makro_cohen = 0\n",
    "for val in cohen_kappas.values(): \n",
    "    makro_cohen += val \n",
    "\n",
    "makro_cohen = makro_cohen / len(cohen_kappas) \n",
    "print('The Avg. Pairwise Cohen Kappa is: ', makro_cohen)\n",
    "\n",
    "#micro_fscores"
   ]
  },
  {
   "cell_type": "code",
   "execution_count": 15,
   "metadata": {},
   "outputs": [
    {
     "data": {
      "text/plain": [
       "[('A104V8NZIQFN2F', 0.7631517080152492),\n",
       " ('A12R2U6TBB3OOG', 0.9443507588532883),\n",
       " ('A1DD23J1WBGQUU', 0.8259109311740891),\n",
       " ('A1EZV3Q6PGMQTY', 0.7259073842302879),\n",
       " ('A1FGKIKJYSL1MI', 0.78475591378219),\n",
       " ('A1J8TVICSRC70W', 0.4689655172413793),\n",
       " ('A1NIO3JNX5QTN8', 0.18448637316561844),\n",
       " ('A1NZFJHVJ9CNTO', 0.7441860465116279),\n",
       " ('A1SN0UU3V61IIM', 0.8638648363252376),\n",
       " ('A22CRWMZUX7FFR', 0.905511811023622),\n",
       " ('A22KRF782ELLB0', 0.9364396654719236),\n",
       " ('A23WTODPHXZ68Y', 0.6125025502917534),\n",
       " ('A2460MAJX0NA82', 0.5368770764119601),\n",
       " ('A27SMEOPKV84VI', 0.8993036365646071),\n",
       " ('A29VL3MZE7YPBZ', 0.8255262071811803),\n",
       " ('A2AFHECSC7X9ZL', 0.8414814814814815),\n",
       " ('A2DDCDTHI8TBUT', 0.7154240182128628),\n",
       " ('A2DHLFPCDUTK2O', 0.8384071823256964),\n",
       " ('A2ESBX4C2Q6TQY', 0.7675675675675676),\n",
       " ('A2HM35CWB7IIFM', 0.9165892624930336),\n",
       " ('A2MCG5W6LHSRG9', 0.9895366218236173),\n",
       " ('A2QVMCGDLTWV9', 0.6870787780910985),\n",
       " ('A2T5CROJ0FWIJY', 0.7959540382049665),\n",
       " ('A2UF2FRGVW4T89', 0.7963184463762958),\n",
       " ('A2UIGDOLX5RV95', 0.7588920459891236),\n",
       " ('A2WNW8A4MOR7T7', 0.818669971086328),\n",
       " ('A34QZDSTKZ3JO9', 0.7870868709066176),\n",
       " ('A3696JXTRKL2FI', 0.6923312883435583),\n",
       " ('A37WDOIQH6JM6V', 0.7978081498257773),\n",
       " ('A38DC3BG1ZCVZ2', 0.6588385354799402),\n",
       " ('A38NFX88VZDMJ3', 0.779804866144203),\n",
       " ('A3BVPQFBYGWJWX', 0.7466293118543162),\n",
       " ('A3KPQ7L5FS8SD6', 0.7420181966037224),\n",
       " ('A3LA5P3N3KI8U7', 0.8387096774193549),\n",
       " ('A3LRZX8477TYYZ', 0.8002504696305573),\n",
       " ('A3U21PUMQ6NGT2', 0.8281271552385417),\n",
       " ('A3UDP95JGEX3H1', 0.8726698491641406),\n",
       " ('A3UUH3632AI3ZX', 0.9226130653266331),\n",
       " ('A3V9JFVZQ2XF4Y', 0.954954954954955),\n",
       " ('A9HQ3E0F2AGVO', 0.7385542168674699),\n",
       " ('A9WGDBDXUNLOD', 0.5),\n",
       " ('ACGHHDT7RY1AH', 0.8731788870312873),\n",
       " ('AFKZZEURTCR8U', 0.8869690424766019),\n",
       " ('AIQ1I6ODSIO56', 0.6796536796536796),\n",
       " ('AMA18W8F60Y2J', 0.8337621587700031),\n",
       " ('APGX2WZ59OWDN', 0.8651564185544768),\n",
       " ('APXNY64HXO08K', 0.8359759624678713),\n",
       " ('AURYD2FH3FUOQ', 0.43478260869565216),\n",
       " ('AXMPSUNKUBEIL', 0.7956989247311828),\n",
       " ('AZLZA0Q87TJZO', 0.8482539682539683)]"
      ]
     },
     "execution_count": 15,
     "metadata": {},
     "output_type": "execute_result"
    }
   ],
   "source": [
    "#workerwise F1 Score / IAA\n",
    "worker_f1 = {w_id:2*w_a /  ( (2*w_a) + worker_b[w_id] + worker_c[w_id] ) for (w_id, w_a) in worker_a.items()}\n",
    "worker_f1\n",
    "\n",
    "sorted(worker_f1.items())"
   ]
  },
  {
   "cell_type": "markdown",
   "metadata": {},
   "source": [
    "# Checkout Low-IAA performance Workers"
   ]
  },
  {
   "cell_type": "code",
   "execution_count": 16,
   "metadata": {},
   "outputs": [
    {
     "data": {
      "text/plain": [
       "[(0.0, ('A1FGKIKJYSL1MI', 'A1NIO3JNX5QTN8')),\n",
       " (0.0, ('A23WTODPHXZ68Y', 'A2QVMCGDLTWV9')),\n",
       " (0.0, ('A2UIGDOLX5RV95', 'A104V8NZIQFN2F')),\n",
       " (0.0, ('A2UIGDOLX5RV95', 'A3BVPQFBYGWJWX')),\n",
       " (0.0, ('A2UIGDOLX5RV95', 'APXNY64HXO08K')),\n",
       " (0.0, ('A3696JXTRKL2FI', 'A2WNW8A4MOR7T7')),\n",
       " (0.0, ('A38NFX88VZDMJ3', 'A1NIO3JNX5QTN8')),\n",
       " (0.0, ('A38NFX88VZDMJ3', 'A3LRZX8477TYYZ')),\n",
       " (0.12087912087912088, ('A34QZDSTKZ3JO9', 'A1NIO3JNX5QTN8')),\n",
       " (0.15853658536585366, ('A29VL3MZE7YPBZ', 'A2UIGDOLX5RV95')),\n",
       " (0.18691588785046728, ('A2UIGDOLX5RV95', 'A27SMEOPKV84VI')),\n",
       " (0.26666666666666666, ('A2UF2FRGVW4T89', 'A2460MAJX0NA82')),\n",
       " (0.2682926829268293, ('APGX2WZ59OWDN', 'A2QVMCGDLTWV9')),\n",
       " (0.3157894736842105, ('A38NFX88VZDMJ3', 'A1J8TVICSRC70W')),\n",
       " (0.32, ('A2460MAJX0NA82', 'A1SN0UU3V61IIM')),\n",
       " (0.33962264150943394, ('A3U21PUMQ6NGT2', 'A9WGDBDXUNLOD')),\n",
       " (0.3546099290780142, ('A2UF2FRGVW4T89', 'A3696JXTRKL2FI')),\n",
       " (0.35555555555555557, ('A34QZDSTKZ3JO9', 'A2460MAJX0NA82')),\n",
       " (0.38493723849372385, ('A37WDOIQH6JM6V', 'A3696JXTRKL2FI')),\n",
       " (0.4, ('A2UF2FRGVW4T89', 'AURYD2FH3FUOQ')),\n",
       " (0.4, ('A3KPQ7L5FS8SD6', 'A2ESBX4C2Q6TQY')),\n",
       " (0.41379310344827586, ('A2460MAJX0NA82', 'A2QVMCGDLTWV9')),\n",
       " (0.4166666666666667, ('A2460MAJX0NA82', 'A38DC3BG1ZCVZ2')),\n",
       " (0.42487046632124353, ('A37WDOIQH6JM6V', 'A3BVPQFBYGWJWX')),\n",
       " (0.425531914893617, ('A3KPQ7L5FS8SD6', 'A2460MAJX0NA82')),\n",
       " (0.4444444444444444, ('AZLZA0Q87TJZO', 'A3LA5P3N3KI8U7')),\n",
       " (0.46808510638297873, ('A37WDOIQH6JM6V', 'AURYD2FH3FUOQ')),\n",
       " (0.4888888888888889, ('A3U21PUMQ6NGT2', 'A1NIO3JNX5QTN8')),\n",
       " (0.5134518923848609, ('A23WTODPHXZ68Y', 'A38NFX88VZDMJ3')),\n",
       " (0.5142857142857142, ('A23WTODPHXZ68Y', 'A1SN0UU3V61IIM')),\n",
       " (0.5142857142857142, ('APXNY64HXO08K', 'A1SN0UU3V61IIM')),\n",
       " (0.5161290322580645, ('A3KPQ7L5FS8SD6', 'AMA18W8F60Y2J')),\n",
       " (0.5185185185185185, ('AXMPSUNKUBEIL', 'A2QVMCGDLTWV9')),\n",
       " (0.538860103626943, ('A23WTODPHXZ68Y', 'A38DC3BG1ZCVZ2')),\n",
       " (0.5454545454545454, ('A37WDOIQH6JM6V', 'A2460MAJX0NA82')),\n",
       " (0.5625, ('A1FGKIKJYSL1MI', 'A1EZV3Q6PGMQTY')),\n",
       " (0.5632273079906904, ('A38NFX88VZDMJ3', 'A2460MAJX0NA82')),\n",
       " (0.5634218289085545, ('A34QZDSTKZ3JO9', 'A23WTODPHXZ68Y')),\n",
       " (0.5760391198044009, ('A2QVMCGDLTWV9', 'A38DC3BG1ZCVZ2')),\n",
       " (0.5850796311818944, ('A37WDOIQH6JM6V', 'A23WTODPHXZ68Y')),\n",
       " (0.5894736842105263, ('A3U21PUMQ6NGT2', 'A2460MAJX0NA82')),\n",
       " (0.5979381443298969, ('A38NFX88VZDMJ3', 'APXNY64HXO08K')),\n",
       " (0.6133333333333333, ('A2UF2FRGVW4T89', 'AIQ1I6ODSIO56')),\n",
       " (0.6153846153846154, ('A2UF2FRGVW4T89', 'A1NZFJHVJ9CNTO')),\n",
       " (0.6161834703591519, ('A3KPQ7L5FS8SD6', 'A2QVMCGDLTWV9')),\n",
       " (0.625, ('A2T5CROJ0FWIJY', 'A2WNW8A4MOR7T7')),\n",
       " (0.6253012048192771, ('A23WTODPHXZ68Y', 'APXNY64HXO08K')),\n",
       " (0.6341463414634146, ('A23WTODPHXZ68Y', 'A3BVPQFBYGWJWX')),\n",
       " (0.6376811594202898, ('A34QZDSTKZ3JO9', 'A1J8TVICSRC70W')),\n",
       " (0.6380090497737556, ('A34QZDSTKZ3JO9', 'A3BVPQFBYGWJWX')),\n",
       " (0.6405570060922542, ('A2UF2FRGVW4T89', 'A23WTODPHXZ68Y')),\n",
       " (0.6420880913539967, ('A38DC3BG1ZCVZ2', 'A104V8NZIQFN2F')),\n",
       " (0.6499454743729552, ('A1FGKIKJYSL1MI', 'A38DC3BG1ZCVZ2')),\n",
       " (0.6597077244258872, ('A2UF2FRGVW4T89', 'A2QVMCGDLTWV9')),\n",
       " (0.6666666666666666, ('A2UF2FRGVW4T89', 'A2WNW8A4MOR7T7')),\n",
       " (0.6666666666666666, ('A2UF2FRGVW4T89', 'APGX2WZ59OWDN')),\n",
       " (0.6666666666666666, ('A37WDOIQH6JM6V', 'A2DHLFPCDUTK2O')),\n",
       " (0.6666666666666666, ('A38DC3BG1ZCVZ2', 'A3V9JFVZQ2XF4Y')),\n",
       " (0.674400618716164, ('A2QVMCGDLTWV9', 'A2DDCDTHI8TBUT')),\n",
       " (0.6764705882352942, ('A2UF2FRGVW4T89', 'A2HM35CWB7IIFM')),\n",
       " (0.6789965207837393, ('A37WDOIQH6JM6V', 'A38DC3BG1ZCVZ2')),\n",
       " (0.6795434591747147, ('A2QVMCGDLTWV9', 'A2T5CROJ0FWIJY')),\n",
       " (0.6798706548100243, ('A2UF2FRGVW4T89', 'A38DC3BG1ZCVZ2')),\n",
       " (0.6814814814814815, ('A34QZDSTKZ3JO9', 'A1EZV3Q6PGMQTY')),\n",
       " (0.6833333333333333, ('A3696JXTRKL2FI', 'A38DC3BG1ZCVZ2')),\n",
       " (0.6896551724137931, ('A34QZDSTKZ3JO9', 'A3LA5P3N3KI8U7')),\n",
       " (0.6904761904761905, ('A34QZDSTKZ3JO9', 'AIQ1I6ODSIO56')),\n",
       " (0.6923076923076923, ('A2460MAJX0NA82', 'A2T5CROJ0FWIJY')),\n",
       " (0.6962642122360585, ('A3KPQ7L5FS8SD6', 'A38DC3BG1ZCVZ2')),\n",
       " (0.7017543859649122, ('A38NFX88VZDMJ3', 'A2QVMCGDLTWV9')),\n",
       " (0.7055214723926381, ('A2DDCDTHI8TBUT', 'A38DC3BG1ZCVZ2')),\n",
       " (0.7058823529411765, ('AMA18W8F60Y2J', 'A2460MAJX0NA82')),\n",
       " (0.7096774193548387, ('A23WTODPHXZ68Y', 'A22CRWMZUX7FFR')),\n",
       " (0.7142857142857143, ('A1FGKIKJYSL1MI', 'AIQ1I6ODSIO56')),\n",
       " (0.7142857142857143, ('A23WTODPHXZ68Y', 'A2DDCDTHI8TBUT')),\n",
       " (0.7151515151515152, ('A3KPQ7L5FS8SD6', 'A23WTODPHXZ68Y')),\n",
       " (0.7181208053691275, ('A3U21PUMQ6NGT2', 'A38DC3BG1ZCVZ2')),\n",
       " (0.7185473411154345, ('A1FGKIKJYSL1MI', 'A104V8NZIQFN2F')),\n",
       " (0.72, ('A104V8NZIQFN2F', 'A2WNW8A4MOR7T7')),\n",
       " (0.723055934515689, ('A3U21PUMQ6NGT2', 'A23WTODPHXZ68Y')),\n",
       " (0.7263427109974424, ('A1FGKIKJYSL1MI', 'A23WTODPHXZ68Y')),\n",
       " (0.7299752270850537, ('A2UF2FRGVW4T89', 'A29VL3MZE7YPBZ')),\n",
       " (0.7306501547987616, ('A38NFX88VZDMJ3', 'A1SN0UU3V61IIM')),\n",
       " (0.7310080350620891, ('A3U21PUMQ6NGT2', 'A2UIGDOLX5RV95')),\n",
       " (0.7315175097276264, ('A34QZDSTKZ3JO9', 'AZLZA0Q87TJZO')),\n",
       " (0.7368421052631579, ('A1FGKIKJYSL1MI', 'AXMPSUNKUBEIL')),\n",
       " (0.7368421052631579, ('A3U21PUMQ6NGT2', 'A9HQ3E0F2AGVO')),\n",
       " (0.7368421052631579, ('AZLZA0Q87TJZO', 'A22KRF782ELLB0')),\n",
       " (0.7376237623762376, ('A1FGKIKJYSL1MI', 'A2460MAJX0NA82')),\n",
       " (0.738255033557047, ('A2DDCDTHI8TBUT', 'A2T5CROJ0FWIJY')),\n",
       " (0.7385779122541604, ('A34QZDSTKZ3JO9', 'A3KPQ7L5FS8SD6')),\n",
       " (0.7391304347826086, ('A3KPQ7L5FS8SD6', 'A2DDCDTHI8TBUT')),\n",
       " (0.739855963463903, ('A37WDOIQH6JM6V', 'A3KPQ7L5FS8SD6')),\n",
       " (0.7401646843549863, ('A37WDOIQH6JM6V', 'A2QVMCGDLTWV9')),\n",
       " (0.7425414364640884, ('A2DHLFPCDUTK2O', 'A38NFX88VZDMJ3')),\n",
       " (0.7435897435897436, ('A34QZDSTKZ3JO9', 'AMA18W8F60Y2J')),\n",
       " (0.7453874538745388, ('A34QZDSTKZ3JO9', 'A3LRZX8477TYYZ')),\n",
       " (0.7474048442906575, ('AMA18W8F60Y2J', 'A38DC3BG1ZCVZ2')),\n",
       " (0.7480519480519481, ('A2UF2FRGVW4T89', 'A22CRWMZUX7FFR')),\n",
       " (0.75, ('A38NFX88VZDMJ3', 'AIQ1I6ODSIO56')),\n",
       " (0.75, ('A3UDP95JGEX3H1', 'A23WTODPHXZ68Y')),\n",
       " (0.7529411764705882, ('A29VL3MZE7YPBZ', 'A9HQ3E0F2AGVO')),\n",
       " (0.7549062363715656, ('A38NFX88VZDMJ3', 'A38DC3BG1ZCVZ2')),\n",
       " (0.7557438487860518, ('A2UF2FRGVW4T89', 'A3KPQ7L5FS8SD6')),\n",
       " (0.7561643835616438, ('A3U21PUMQ6NGT2', 'A2AFHECSC7X9ZL')),\n",
       " (0.7582049564634963, ('A2UF2FRGVW4T89', 'A104V8NZIQFN2F')),\n",
       " (0.7584097859327217, ('A2T5CROJ0FWIJY', 'A38DC3BG1ZCVZ2')),\n",
       " (0.76, ('A37WDOIQH6JM6V', 'A2DDCDTHI8TBUT')),\n",
       " (0.761437908496732, ('A3KPQ7L5FS8SD6', 'APXNY64HXO08K')),\n",
       " (0.7625765732318545, ('A37WDOIQH6JM6V', 'A2UIGDOLX5RV95')),\n",
       " (0.7647058823529411, ('A38NFX88VZDMJ3', 'A3696JXTRKL2FI')),\n",
       " (0.776255707762557, ('APXNY64HXO08K', 'A38DC3BG1ZCVZ2')),\n",
       " (0.7777777777777778, ('A38DC3BG1ZCVZ2', 'A2WNW8A4MOR7T7')),\n",
       " (0.7804878048780488, ('A2UF2FRGVW4T89', 'A3LA5P3N3KI8U7')),\n",
       " (0.7819797478817938, ('A2UF2FRGVW4T89', 'A1FGKIKJYSL1MI')),\n",
       " (0.782608695652174, ('A2UF2FRGVW4T89', 'AZLZA0Q87TJZO')),\n",
       " (0.783802435056933, ('A34QZDSTKZ3JO9', 'A38NFX88VZDMJ3')),\n",
       " (0.784, ('A3KPQ7L5FS8SD6', 'A1FGKIKJYSL1MI')),\n",
       " (0.7846153846153846, ('A3696JXTRKL2FI', 'A104V8NZIQFN2F')),\n",
       " (0.7847295864262991, ('APXNY64HXO08K', 'A2QVMCGDLTWV9')),\n",
       " (0.7847328244274809, ('A38NFX88VZDMJ3', 'A2DDCDTHI8TBUT')),\n",
       " (0.7858796801957272, ('A34QZDSTKZ3JO9', 'A1FGKIKJYSL1MI')),\n",
       " (0.7861635220125787, ('A1FGKIKJYSL1MI', 'A1DD23J1WBGQUU')),\n",
       " (0.7874293130620191, ('A1FGKIKJYSL1MI', 'A38NFX88VZDMJ3')),\n",
       " (0.7879413282228938, ('A34QZDSTKZ3JO9', 'A2UF2FRGVW4T89')),\n",
       " (0.788135593220339, ('AMA18W8F60Y2J', 'A2QVMCGDLTWV9')),\n",
       " (0.7903225806451613, ('A2UF2FRGVW4T89', 'A9HQ3E0F2AGVO')),\n",
       " (0.7926363320597429, ('A3KPQ7L5FS8SD6', 'A38NFX88VZDMJ3')),\n",
       " (0.7966473757732987, ('A2UF2FRGVW4T89', 'A2UIGDOLX5RV95')),\n",
       " (0.7970615243342516, ('A37WDOIQH6JM6V', 'A29VL3MZE7YPBZ')),\n",
       " (0.7974925996865749, ('A37WDOIQH6JM6V', 'A1FGKIKJYSL1MI')),\n",
       " (0.7981113177850908, ('A34QZDSTKZ3JO9', 'A37WDOIQH6JM6V')),\n",
       " (0.8, ('A2UF2FRGVW4T89', 'A12R2U6TBB3OOG')),\n",
       " (0.800982800982801, ('A3KPQ7L5FS8SD6', 'A2T5CROJ0FWIJY')),\n",
       " (0.8048780487804879, ('A2QVMCGDLTWV9', 'A2ESBX4C2Q6TQY')),\n",
       " (0.8051948051948052, ('A38DC3BG1ZCVZ2', 'A1SN0UU3V61IIM')),\n",
       " (0.8052805280528053, ('A38NFX88VZDMJ3', 'A1EZV3Q6PGMQTY')),\n",
       " (0.8059701492537313, ('A3U21PUMQ6NGT2', 'A2T5CROJ0FWIJY')),\n",
       " (0.806204666289076, ('A2UF2FRGVW4T89', 'A37WDOIQH6JM6V')),\n",
       " (0.8066215199398044, ('A37WDOIQH6JM6V', 'A2T5CROJ0FWIJY')),\n",
       " (0.8082191780821918, ('A2UF2FRGVW4T89', 'A2DDCDTHI8TBUT')),\n",
       " (0.8108108108108109, ('A38NFX88VZDMJ3', 'AXMPSUNKUBEIL')),\n",
       " (0.8125274146854987, ('A2UF2FRGVW4T89', 'A38NFX88VZDMJ3')),\n",
       " (0.8138528138528138, ('AZLZA0Q87TJZO', 'A23WTODPHXZ68Y')),\n",
       " (0.8148148148148148, ('A2UF2FRGVW4T89', 'A2DHLFPCDUTK2O')),\n",
       " (0.8177083333333334, ('A3UDP95JGEX3H1', 'APXNY64HXO08K')),\n",
       " (0.8182883939038686, ('A38NFX88VZDMJ3', 'A1DD23J1WBGQUU')),\n",
       " (0.8186868686868687, ('A37WDOIQH6JM6V', 'A38NFX88VZDMJ3')),\n",
       " (0.8187408491947291, ('A37WDOIQH6JM6V', 'APXNY64HXO08K')),\n",
       " (0.8195991091314031, ('A2UF2FRGVW4T89', 'A3BVPQFBYGWJWX')),\n",
       " (0.819672131147541, ('A1FGKIKJYSL1MI', 'A1SN0UU3V61IIM')),\n",
       " (0.8202764976958525, ('A3U21PUMQ6NGT2', 'A3BVPQFBYGWJWX')),\n",
       " (0.8226982337467118, ('A2UF2FRGVW4T89', 'A3U21PUMQ6NGT2')),\n",
       " (0.8235294117647058, ('AMA18W8F60Y2J', 'A2DDCDTHI8TBUT')),\n",
       " (0.8250758341759353, ('A37WDOIQH6JM6V', 'AZLZA0Q87TJZO')),\n",
       " (0.8253968253968254, ('APXNY64HXO08K', 'A3UUH3632AI3ZX')),\n",
       " (0.8260869565217391, ('AMA18W8F60Y2J', 'APXNY64HXO08K')),\n",
       " (0.8268383598780075, ('A3U21PUMQ6NGT2', 'A3KPQ7L5FS8SD6')),\n",
       " (0.8300169072701261, ('A37WDOIQH6JM6V', 'A104V8NZIQFN2F')),\n",
       " (0.831918505942275, ('A2UF2FRGVW4T89', 'A2T5CROJ0FWIJY')),\n",
       " (0.8321167883211679, ('A22KRF782ELLB0', 'A38DC3BG1ZCVZ2')),\n",
       " (0.8333333333333334, ('A1FGKIKJYSL1MI', 'A3696JXTRKL2FI')),\n",
       " (0.8333333333333334, ('A23WTODPHXZ68Y', 'A27SMEOPKV84VI')),\n",
       " (0.8366533864541833, ('A3U21PUMQ6NGT2', 'AMA18W8F60Y2J')),\n",
       " (0.8366972477064221, ('A34QZDSTKZ3JO9', 'A3UDP95JGEX3H1')),\n",
       " (0.8374980105045361, ('A34QZDSTKZ3JO9', 'APXNY64HXO08K')),\n",
       " (0.8402154398563735, ('A3KPQ7L5FS8SD6', 'ACGHHDT7RY1AH')),\n",
       " (0.8421052631578947, ('A2UF2FRGVW4T89', 'A1SN0UU3V61IIM')),\n",
       " (0.8426414744836529, ('A3U21PUMQ6NGT2', 'A38NFX88VZDMJ3')),\n",
       " (0.8431372549019608, ('A37WDOIQH6JM6V', 'A3LRZX8477TYYZ')),\n",
       " (0.8451127819548873, ('A2UF2FRGVW4T89', 'APXNY64HXO08K')),\n",
       " (0.845360824742268, ('A1FGKIKJYSL1MI', 'A2T5CROJ0FWIJY')),\n",
       " (0.8467543138866064, ('A34QZDSTKZ3JO9', 'A2DHLFPCDUTK2O')),\n",
       " (0.8476289734236582, ('A37WDOIQH6JM6V', 'A3U21PUMQ6NGT2')),\n",
       " (0.8488372093023255, ('A2UF2FRGVW4T89', 'A27SMEOPKV84VI')),\n",
       " (0.8488745980707395, ('A34QZDSTKZ3JO9', 'ACGHHDT7RY1AH')),\n",
       " (0.849819813194087, ('A34QZDSTKZ3JO9', 'A3U21PUMQ6NGT2')),\n",
       " (0.851063829787234, ('AZLZA0Q87TJZO', 'AMA18W8F60Y2J')),\n",
       " (0.8518518518518519, ('A34QZDSTKZ3JO9', 'A3UUH3632AI3ZX')),\n",
       " (0.8528528528528528, ('A1FGKIKJYSL1MI', 'A2DDCDTHI8TBUT')),\n",
       " (0.8540540540540541, ('A37WDOIQH6JM6V', 'AFKZZEURTCR8U')),\n",
       " (0.8571428571428571, ('A1EZV3Q6PGMQTY', 'A1DD23J1WBGQUU')),\n",
       " (0.8571428571428571, ('A3U21PUMQ6NGT2', 'A3V9JFVZQ2XF4Y')),\n",
       " (0.8577405857740585, ('A38NFX88VZDMJ3', 'A2T5CROJ0FWIJY')),\n",
       " (0.8588588588588588, ('A3KPQ7L5FS8SD6', 'APGX2WZ59OWDN')),\n",
       " (0.859796550199027, ('A29VL3MZE7YPBZ', 'A3U21PUMQ6NGT2')),\n",
       " (0.86, ('A2UF2FRGVW4T89', 'A22KRF782ELLB0')),\n",
       " (0.8611111111111112, ('AMA18W8F60Y2J', 'A1SN0UU3V61IIM')),\n",
       " (0.8634361233480177, ('A3696JXTRKL2FI', 'A2T5CROJ0FWIJY')),\n",
       " (0.867704280155642, ('A34QZDSTKZ3JO9', 'A27SMEOPKV84VI')),\n",
       " (0.8687589158345221, ('A2UF2FRGVW4T89', 'ACGHHDT7RY1AH')),\n",
       " (0.870420017873101, ('A3U21PUMQ6NGT2', 'AZLZA0Q87TJZO')),\n",
       " (0.8725490196078431, ('A3U21PUMQ6NGT2', 'A104V8NZIQFN2F')),\n",
       " (0.8730822873082287, ('A2QVMCGDLTWV9', 'A1SN0UU3V61IIM')),\n",
       " (0.8741721854304636, ('A3KPQ7L5FS8SD6', 'A3UDP95JGEX3H1')),\n",
       " (0.8748599178184535, ('A2T5CROJ0FWIJY', 'A104V8NZIQFN2F')),\n",
       " (0.875, ('A3U21PUMQ6NGT2', 'A2DHLFPCDUTK2O')),\n",
       " (0.8758620689655172, ('A34QZDSTKZ3JO9', 'A1DD23J1WBGQUU')),\n",
       " (0.88, ('A37WDOIQH6JM6V', 'A2WNW8A4MOR7T7')),\n",
       " (0.8804347826086957, ('AMA18W8F60Y2J', 'A38NFX88VZDMJ3')),\n",
       " (0.8824057450628366, ('A1FGKIKJYSL1MI', 'A2DHLFPCDUTK2O')),\n",
       " (0.8847682119205298, ('A37WDOIQH6JM6V', 'A22CRWMZUX7FFR')),\n",
       " (0.8856088560885609, ('A37WDOIQH6JM6V', 'ACGHHDT7RY1AH')),\n",
       " (0.8857142857142857, ('A2UF2FRGVW4T89', 'AFKZZEURTCR8U')),\n",
       " (0.8859060402684564, ('A2QVMCGDLTWV9', 'A2HM35CWB7IIFM')),\n",
       " (0.8863636363636364, ('AZLZA0Q87TJZO', 'APXNY64HXO08K')),\n",
       " (0.8873239436619719, ('A34QZDSTKZ3JO9', 'A22KRF782ELLB0')),\n",
       " (0.8883274381000505, ('A2UF2FRGVW4T89', 'A3UDP95JGEX3H1')),\n",
       " (0.8888888888888888, ('A3UDP95JGEX3H1', 'A3BVPQFBYGWJWX')),\n",
       " (0.8888888888888888, ('A3V9JFVZQ2XF4Y', 'A2WNW8A4MOR7T7')),\n",
       " (0.8888888888888888, ('APXNY64HXO08K', 'A2T5CROJ0FWIJY')),\n",
       " (0.890330953926022, ('A37WDOIQH6JM6V', 'A3UDP95JGEX3H1')),\n",
       " (0.8932322829410982, ('A3U21PUMQ6NGT2', 'A1FGKIKJYSL1MI')),\n",
       " (0.8979591836734694, ('AZLZA0Q87TJZO', 'A38NFX88VZDMJ3')),\n",
       " (0.8992248062015504, ('AMA18W8F60Y2J', 'A2UIGDOLX5RV95')),\n",
       " (0.9001751313485113, ('APXNY64HXO08K', 'A3BVPQFBYGWJWX')),\n",
       " (0.9042298483639266, ('A1FGKIKJYSL1MI', 'A2QVMCGDLTWV9')),\n",
       " (0.9113924050632911, ('A38DC3BG1ZCVZ2', 'A2HM35CWB7IIFM')),\n",
       " (0.9183673469387755, ('A2T5CROJ0FWIJY', 'A1SN0UU3V61IIM')),\n",
       " (0.9200492004920049, ('A3U21PUMQ6NGT2', 'A3UDP95JGEX3H1')),\n",
       " (0.9230769230769231, ('A1FGKIKJYSL1MI', 'A3LRZX8477TYYZ')),\n",
       " (0.9230769230769231, ('APGX2WZ59OWDN', 'A2MCG5W6LHSRG9')),\n",
       " (0.9230769230769231, ('APGX2WZ59OWDN', 'A9HQ3E0F2AGVO')),\n",
       " (0.9230769230769231, ('APXNY64HXO08K', 'A3LA5P3N3KI8U7')),\n",
       " (0.9242658423493045, ('A3U21PUMQ6NGT2', 'APXNY64HXO08K')),\n",
       " (0.9245283018867925, ('A2UF2FRGVW4T89', 'A3UUH3632AI3ZX')),\n",
       " (0.926829268292683, ('A1FGKIKJYSL1MI', 'A2HM35CWB7IIFM')),\n",
       " (0.9281045751633987, ('A37WDOIQH6JM6V', 'AMA18W8F60Y2J')),\n",
       " (0.9291553133514986, ('A22CRWMZUX7FFR', 'APXNY64HXO08K')),\n",
       " (0.9310344827586207, ('A38DC3BG1ZCVZ2', 'AFKZZEURTCR8U')),\n",
       " (0.9333333333333333, ('A3696JXTRKL2FI', 'AFKZZEURTCR8U')),\n",
       " (0.9333333333333333, ('AZLZA0Q87TJZO', 'A9HQ3E0F2AGVO')),\n",
       " (0.9342560553633218, ('A3U21PUMQ6NGT2', 'APGX2WZ59OWDN')),\n",
       " (0.9361702127659575, ('A37WDOIQH6JM6V', 'APGX2WZ59OWDN')),\n",
       " (0.9375, ('A2HM35CWB7IIFM', 'A1SN0UU3V61IIM')),\n",
       " (0.9387755102040817, ('APXNY64HXO08K', 'A12R2U6TBB3OOG')),\n",
       " (0.9411764705882353, ('A23WTODPHXZ68Y', 'A3LA5P3N3KI8U7')),\n",
       " (0.9411764705882353, ('A23WTODPHXZ68Y', 'A3UUH3632AI3ZX')),\n",
       " (0.9411764705882353, ('A27SMEOPKV84VI', 'A12R2U6TBB3OOG')),\n",
       " (0.9411764705882353, ('A38DC3BG1ZCVZ2', 'A1NZFJHVJ9CNTO')),\n",
       " (0.9419354838709677, ('A2UIGDOLX5RV95', 'A2AFHECSC7X9ZL')),\n",
       " (0.9426229508196722, ('A3U21PUMQ6NGT2', 'A22KRF782ELLB0')),\n",
       " (0.9435897435897436, ('A3U21PUMQ6NGT2', 'A27SMEOPKV84VI')),\n",
       " (0.9457013574660633, ('A34QZDSTKZ3JO9', 'A22CRWMZUX7FFR')),\n",
       " (0.9473684210526315, ('A29VL3MZE7YPBZ', 'A9WGDBDXUNLOD')),\n",
       " (0.9473684210526315, ('AFKZZEURTCR8U', 'A3V9JFVZQ2XF4Y')),\n",
       " (0.95, ('A29VL3MZE7YPBZ', 'AZLZA0Q87TJZO')),\n",
       " (0.95, ('A2MCG5W6LHSRG9', 'A9HQ3E0F2AGVO')),\n",
       " (0.95, ('A34QZDSTKZ3JO9', 'A29VL3MZE7YPBZ')),\n",
       " (0.9504950495049505, ('A3UDP95JGEX3H1', 'A22CRWMZUX7FFR')),\n",
       " (0.9523809523809523, ('A22CRWMZUX7FFR', 'A12R2U6TBB3OOG')),\n",
       " (0.9523809523809523, ('A2DDCDTHI8TBUT', 'A2ESBX4C2Q6TQY')),\n",
       " (0.9523809523809523, ('A37WDOIQH6JM6V', 'A12R2U6TBB3OOG')),\n",
       " (0.9562289562289562, ('A3U21PUMQ6NGT2', 'ACGHHDT7RY1AH')),\n",
       " (0.96, ('A2UF2FRGVW4T89', 'AMA18W8F60Y2J')),\n",
       " (0.9629629629629629, ('A23WTODPHXZ68Y', 'A22KRF782ELLB0')),\n",
       " (0.963963963963964, ('APXNY64HXO08K', 'A2DDCDTHI8TBUT')),\n",
       " (0.9645390070921985, ('A3U21PUMQ6NGT2', 'A3696JXTRKL2FI')),\n",
       " (0.9647058823529412, ('A29VL3MZE7YPBZ', 'AMA18W8F60Y2J')),\n",
       " (0.9655172413793104, ('A22KRF782ELLB0', 'A104V8NZIQFN2F')),\n",
       " (0.966183574879227, ('A3U21PUMQ6NGT2', 'A22CRWMZUX7FFR')),\n",
       " (0.967032967032967, ('AZLZA0Q87TJZO', 'A2QVMCGDLTWV9')),\n",
       " (0.9674418604651163, ('A37WDOIQH6JM6V', 'A3UUH3632AI3ZX')),\n",
       " (0.96875, ('A38NFX88VZDMJ3', 'A2HM35CWB7IIFM')),\n",
       " (0.9716981132075472, ('A2UF2FRGVW4T89', 'A3LRZX8477TYYZ')),\n",
       " (0.975609756097561, ('A22KRF782ELLB0', 'APXNY64HXO08K')),\n",
       " (0.9765625, ('A37WDOIQH6JM6V', 'A22KRF782ELLB0')),\n",
       " (0.9787234042553191, ('A37WDOIQH6JM6V', 'A3V9JFVZQ2XF4Y')),\n",
       " (0.9803921568627451, ('A104V8NZIQFN2F', 'A3V9JFVZQ2XF4Y')),\n",
       " (0.9813664596273292, ('A2DDCDTHI8TBUT', 'A1SN0UU3V61IIM')),\n",
       " (0.9836065573770492, ('A29VL3MZE7YPBZ', 'A2MCG5W6LHSRG9')),\n",
       " (0.9841269841269841, ('A34QZDSTKZ3JO9', 'A12R2U6TBB3OOG')),\n",
       " (0.9850746268656716, ('A27SMEOPKV84VI', 'APXNY64HXO08K')),\n",
       " (0.989247311827957, ('AMA18W8F60Y2J', 'A3UDP95JGEX3H1')),\n",
       " (0.9894736842105263, ('A3UDP95JGEX3H1', 'A3LA5P3N3KI8U7')),\n",
       " (0.9914529914529915, ('A2T5CROJ0FWIJY', 'AFKZZEURTCR8U')),\n",
       " (0.9928057553956835, ('A104V8NZIQFN2F', 'AFKZZEURTCR8U')),\n",
       " (1.0, ('A1FGKIKJYSL1MI', 'AMA18W8F60Y2J')),\n",
       " (1.0, ('A1FGKIKJYSL1MI', 'APXNY64HXO08K')),\n",
       " (1.0, ('A22CRWMZUX7FFR', 'A22KRF782ELLB0')),\n",
       " (1.0, ('A22CRWMZUX7FFR', 'A27SMEOPKV84VI')),\n",
       " (1.0, ('A22CRWMZUX7FFR', 'A3UUH3632AI3ZX')),\n",
       " (1.0, ('A22KRF782ELLB0', 'A2T5CROJ0FWIJY')),\n",
       " (1.0, ('A27SMEOPKV84VI', 'A3LA5P3N3KI8U7')),\n",
       " (1.0, ('A2T5CROJ0FWIJY', 'A2HM35CWB7IIFM')),\n",
       " (1.0, ('A2UF2FRGVW4T89', 'A3V9JFVZQ2XF4Y')),\n",
       " (1.0, ('A2UIGDOLX5RV95', 'A2T5CROJ0FWIJY')),\n",
       " (1.0, ('A3696JXTRKL2FI', 'A3V9JFVZQ2XF4Y')),\n",
       " (1.0, ('A37WDOIQH6JM6V', 'A1SN0UU3V61IIM')),\n",
       " (1.0, ('A37WDOIQH6JM6V', 'A27SMEOPKV84VI')),\n",
       " (1.0, ('A3KPQ7L5FS8SD6', 'A1SN0UU3V61IIM')),\n",
       " (1.0, ('A3KPQ7L5FS8SD6', 'A2HM35CWB7IIFM')),\n",
       " (1.0, ('A3U21PUMQ6NGT2', 'A12R2U6TBB3OOG')),\n",
       " (1.0, ('A3U21PUMQ6NGT2', 'A2MCG5W6LHSRG9')),\n",
       " (1.0, ('A3UDP95JGEX3H1', 'A12R2U6TBB3OOG')),\n",
       " (1.0, ('A3UDP95JGEX3H1', 'A22KRF782ELLB0')),\n",
       " (1.0, ('A3UDP95JGEX3H1', 'A27SMEOPKV84VI')),\n",
       " (1.0, ('A3UDP95JGEX3H1', 'A3UUH3632AI3ZX')),\n",
       " (1.0, ('AMA18W8F60Y2J', 'A2HM35CWB7IIFM')),\n",
       " (1.0, ('AMA18W8F60Y2J', 'A2T5CROJ0FWIJY')),\n",
       " (1.0, ('AZLZA0Q87TJZO', 'A22CRWMZUX7FFR')),\n",
       " (1.0, ('AZLZA0Q87TJZO', 'A27SMEOPKV84VI'))]"
      ]
     },
     "execution_count": 16,
     "metadata": {},
     "output_type": "execute_result"
    }
   ],
   "source": [
    "sorted( ((v,k) for k,v in micro_fscores.items()), reverse=False)"
   ]
  },
  {
   "cell_type": "markdown",
   "metadata": {},
   "source": [
    "# Convert to Labelstudio format"
   ]
  },
  {
   "cell_type": "code",
   "execution_count": 17,
   "metadata": {},
   "outputs": [
    {
     "data": {
      "text/plain": [
       "0    \"Crystal Candy\" Purest and real MDMA 92% - 2 Gr -\n",
       "1    \"Crystal Candy\" Purest and real MDMA 92% - 2 Gr -\n",
       "2    \"Crystal Candy\" Purest and real MDMA 92% - 2 Gr -\n",
       "3         10G Ketama Sputnik (Sativa) ~ ESCROW PRICE ~\n",
       "4         10G Ketama Sputnik (Sativa) ~ ESCROW PRICE ~\n",
       "Name: name, dtype: object"
      ]
     },
     "execution_count": 17,
     "metadata": {},
     "output_type": "execute_result"
    }
   ],
   "source": [
    "amt_results['dream_id'] = amt_results['Input.dream_id_name'].str.split(' - ', n=1).str[0]\n",
    "\n",
    " # Only one split --> all other patterns are by accident --> n=1\n",
    "amt_results['name'] = amt_results['Input.dream_id_name'].str.split(' - ', n=1).str[1]\n",
    "\n",
    "amt_results['name'].head()"
   ]
  },
  {
   "cell_type": "code",
   "execution_count": 18,
   "metadata": {},
   "outputs": [],
   "source": [
    "#Load data used for dataset creation\n",
    "df_original = pd.read_pickle('intermediate_store/preprocessed_AMT_ads_V1.2.pickle')"
   ]
  },
  {
   "cell_type": "code",
   "execution_count": 19,
   "metadata": {},
   "outputs": [
    {
     "data": {
      "text/plain": [
       "{'completions': [{'created_at': 1610963709,\n",
       "   'id': 641001,\n",
       "   'lead_time': 11.385,\n",
       "   'result': [{'from_name': 'label',\n",
       "     'id': '9HDYDBGmSQ',\n",
       "     'to_name': 'text',\n",
       "     'type': 'labels',\n",
       "     'value': {'end': 40,\n",
       "      'labels': ['Drug'],\n",
       "      'start': 30,\n",
       "      'text': 'Lorazepam '}}]}],\n",
       " 'data': {'Unnamed: 0': 11228,\n",
       "  'category': 'DRUG',\n",
       "  'description': 'You are purchasing one box of Lorazepam 5 mg with 60 pills packaged in flaskYou will receive exactly the box in the picture because I took the photo of the box I am sellingAll my medicines come from a pharmacy in Europe and are according to EMEA rules  ( European Medicines Agency )  . Our products are shipped in registered mail with tracking number and are carefully packaged .  For more information about the product please contact me',\n",
       "  'keywords': \"[('AA, Benzos', 30, 39)]\",\n",
       "  'lang': 'en',\n",
       "  'market_name': 'DREAM',\n",
       "  'name': 'Lorazepam 5 mg  60 pills  tavor 5 mg Ativan Temest',\n",
       "  'subcategory': 'Drugs, Benzos',\n",
       "  'vendor': 'jasonjohnson'},\n",
       " 'id': 641}"
      ]
     },
     "execution_count": 19,
     "metadata": {},
     "output_type": "execute_result"
    }
   ],
   "source": [
    "with open('appen_results/label_studio_example.json') as json_file:\n",
    "    label_studio = json.load(json_file)\n",
    "label_studio[0]"
   ]
  },
  {
   "cell_type": "code",
   "execution_count": 20,
   "metadata": {},
   "outputs": [
    {
     "data": {
      "text/html": [
       "<div>\n",
       "<style scoped>\n",
       "    .dataframe tbody tr th:only-of-type {\n",
       "        vertical-align: middle;\n",
       "    }\n",
       "\n",
       "    .dataframe tbody tr th {\n",
       "        vertical-align: top;\n",
       "    }\n",
       "\n",
       "    .dataframe thead th {\n",
       "        text-align: right;\n",
       "    }\n",
       "</style>\n",
       "<table border=\"1\" class=\"dataframe\">\n",
       "  <thead>\n",
       "    <tr style=\"text-align: right;\">\n",
       "      <th></th>\n",
       "      <th>dream_id</th>\n",
       "      <th>vendor</th>\n",
       "      <th>name</th>\n",
       "      <th>description</th>\n",
       "      <th>lang</th>\n",
       "      <th>doc</th>\n",
       "      <th>clean_description</th>\n",
       "    </tr>\n",
       "  </thead>\n",
       "  <tbody>\n",
       "    <tr>\n",
       "      <th>145</th>\n",
       "      <td>274501</td>\n",
       "      <td>Gecko</td>\n",
       "      <td>Custom MMXXX</td>\n",
       "      <td>Soma 350mg x 400 - $85\\nAlbuterol Inhalers x 1...</td>\n",
       "      <td>en</td>\n",
       "      <td>[\\n  [\\n    {\\n      \"id\": 1,\\n      \"text\": \"...</td>\n",
       "      <td>Soma 350 mg x 400 - 85 Albuterol Inhalers x 10...</td>\n",
       "    </tr>\n",
       "  </tbody>\n",
       "</table>\n",
       "</div>"
      ],
      "text/plain": [
       "     dream_id     vendor          name  \\\n",
       "145    274501   Gecko     Custom MMXXX   \n",
       "\n",
       "                                           description lang  \\\n",
       "145  Soma 350mg x 400 - $85\\nAlbuterol Inhalers x 1...   en   \n",
       "\n",
       "                                                   doc  \\\n",
       "145  [\\n  [\\n    {\\n      \"id\": 1,\\n      \"text\": \"...   \n",
       "\n",
       "                                     clean_description  \n",
       "145  Soma 350 mg x 400 - 85 Albuterol Inhalers x 10...  "
      ]
     },
     "execution_count": 20,
     "metadata": {},
     "output_type": "execute_result"
    }
   ],
   "source": [
    "df_original[df_original['dream_id'] == 274501]"
   ]
  },
  {
   "cell_type": "code",
   "execution_count": 21,
   "metadata": {},
   "outputs": [],
   "source": [
    "\n",
    "def get_result_json(annotation_list, text, hitID):\n",
    "    result=[]\n",
    "    indx = 0           \n",
    "    for (startIdx, endIdx) in annotation_list:\n",
    "        anno_dict = {'from_name': 'label',\n",
    "                       'id': str(indx) + '-' + hitID,\n",
    "                       'to_name': 'text',\n",
    "                       'type': 'labels',\n",
    "                       'value':{'end':endIdx+1,\n",
    "                                    'labels': ['Drug'],\n",
    "                                    'text':text[startIdx:endIdx+1],\n",
    "                                    'start':startIdx}}\n",
    "        result.append(anno_dict)\n",
    "        indx = indx + 1\n",
    "    #print('result:', result)\n",
    "    return result\n",
    "\n",
    "def create_labelstudio_data(agg_row):           \n",
    "    original_row = df_original[df_original['dream_id'] == int(agg_row['dream_id'])].iloc[0]\n",
    "    mv_annotation = mv_annotations[agg_row['HITId']]\n",
    "    data={'dream_id':agg_row.dream_id, 'name':agg_row['name'], 'p_id':int(original_row.name), \n",
    "          'clean_description':agg_row['Input.clean_description'],\n",
    "         'WorkerId':agg_row['WorkerId'], 'worktime':agg_row['WorkTimeInSeconds'],\n",
    "         'AssignmentID':agg_row['AssignmentId']}\n",
    "\n",
    "    completions={'created_at': int(time.time()),\n",
    "                'id':agg_row.HITId,\n",
    "                'lead_time':10.00,        #I have no clue what lead time is.\n",
    "                'result':get_result_json(agg_row['marked_spans'], agg_row['Input.clean_description'], agg_row.HITId)\n",
    "                }\n",
    "    \n",
    "    return {'completions':[completions], 'data':data, 'id':agg_row.HITId}\n",
    "\n",
    "\n",
    "amt_results['labelstudio_data'] = amt_results.apply(lambda row: create_labelstudio_data(row), axis=1)\n"
   ]
  },
  {
   "cell_type": "code",
   "execution_count": 22,
   "metadata": {},
   "outputs": [],
   "source": [
    "#Write TO File\n",
    "with open('amt_results/amt_final_ind/label_studio_' + filename + '_individual.json', 'w') as json_file:\n",
    "    json.dump(amt_results['labelstudio_data'].tolist(), json_file, indent='\\t')"
   ]
  },
  {
   "cell_type": "code",
   "execution_count": null,
   "metadata": {},
   "outputs": [],
   "source": []
  }
 ],
 "metadata": {
  "kernelspec": {
   "display_name": "NER36",
   "language": "python",
   "name": "ner36"
  },
  "language_info": {
   "codemirror_mode": {
    "name": "ipython",
    "version": 3
   },
   "file_extension": ".py",
   "mimetype": "text/x-python",
   "name": "python",
   "nbconvert_exporter": "python",
   "pygments_lexer": "ipython3",
   "version": "3.6.12"
  }
 },
 "nbformat": 4,
 "nbformat_minor": 4
}
